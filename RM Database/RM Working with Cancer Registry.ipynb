{
 "cells": [
  {
   "cell_type": "code",
   "execution_count": 20,
   "metadata": {},
   "outputs": [
    {
     "name": "stdout",
     "output_type": "stream",
     "text": [
      "mrns in registry: 1919\n",
      "mrns in cohort 2664\n",
      "number of patients in cohort with info in registry: 1919\n"
     ]
    },
    {
     "name": "stderr",
     "output_type": "stream",
     "text": [
      "C:\\Users\\12488\\python\\lib\\site-packages\\IPython\\core\\interactiveshell.py:3063: DtypeWarning: Columns (0) have mixed types.Specify dtype option on import or set low_memory=False.\n",
      "  interactivity=interactivity, compiler=compiler, result=result)\n"
     ]
    }
   ],
   "source": [
    "import codecs\n",
    "import re\n",
    "import pandas as pd\n",
    "import numpy as np\n",
    "\n",
    "file='CancerRegistry_clean.csv'\n",
    "\n",
    "df=pd.read_csv(file)\n",
    "\n",
    "def remove_mrns_that_arent_numbers(mrn):\n",
    "    try:\n",
    "        pattern=r'[A-z]'\n",
    "        search=re.search(pattern,mrn)\n",
    "        if search:\n",
    "            return np.nan\n",
    "        else:\n",
    "            return mrn\n",
    "    except:\n",
    "        return mrn\n",
    "\n",
    "df['mrn']=df['mrn'].apply(remove_mrns_that_arent_numbers)\n",
    "df.dropna(inplace=True, subset=['mrn'])\n",
    "df['mrn']=df['mrn'].astype(int)\n",
    "\n",
    "\n",
    "mrns_registry=df.mrn.unique()\n",
    "\n",
    "df_demo=pd.read_csv('ENT_CA_DM_Cohort.txt',delimiter='|')\n",
    "mrns_cohort=df_demo.mrn.unique()\n",
    "print ('mrns in registry:',len(mrns_registry))\n",
    "print ('mrns in cohort',len(mrns_cohort))\n",
    "\n",
    "df_overlap=df[df['mrn'].isin(mrns_cohort)]\n",
    "\n",
    "print('number of patients in cohort with info in registry:',len(df_overlap.mrn.unique()))\n",
    "#df_overlap.to_csv('examine.csv')"
   ]
  },
  {
   "cell_type": "code",
   "execution_count": 21,
   "metadata": {},
   "outputs": [
    {
     "name": "stdout",
     "output_type": "stream",
     "text": [
      "Index(['mrn', 'pt_name', 'gender', 'race', 'ethnicity', 'date_of_birth',\n",
      "       'date_of_death', 'drinks_per_week', 'TOBACCO_USER', 'pack_years',\n",
      "       'Stage', 'TNM', 'T', 'N', 'M', 'narrative', 'Dx_',\n",
      "       'date_of_primary_diagnosis', 'primary_diagnoses', 'secondary_diagnoses',\n",
      "       'HPV_status'],\n",
      "      dtype='object')\n",
      "          mrn date_of_primary_diagnosis\n",
      "0      218087                2011-03-15\n",
      "1      218644                2010-11-03\n",
      "2      255332                2004-06-10\n",
      "3      263405                2012-10-17\n",
      "4      296701                2011-07-15\n",
      "...       ...                       ...\n",
      "2655  3938435                2020-02-12\n",
      "2656  3938622                2020-02-12\n",
      "2658  3939715                2020-02-11\n",
      "2659  3940931                2020-02-18\n",
      "2660  3942512                2020-02-21\n",
      "\n",
      "[2512 rows x 2 columns]\n",
      "          mrn date_of_initial_diagnosis\n",
      "0     2685854                03/29/2010\n",
      "2     2362656                09/10/1998\n",
      "5     2759491                07/26/2004\n",
      "8     2784676                12/10/2004\n",
      "11    2730715                01/16/2009\n",
      "...       ...                       ...\n",
      "9522  3352486                05/15/2010\n",
      "9533  2918682                11/10/2006\n",
      "9536  3442044                12/17/2014\n",
      "9555  2951220                06/05/2007\n",
      "9563  3684039                06/19/2017\n",
      "\n",
      "[1622 rows x 2 columns]\n"
     ]
    },
    {
     "name": "stderr",
     "output_type": "stream",
     "text": [
      "C:\\Users\\12488\\python\\lib\\site-packages\\ipykernel_launcher.py:9: SettingWithCopyWarning: \n",
      "A value is trying to be set on a copy of a slice from a DataFrame\n",
      "\n",
      "See the caveats in the documentation: https://pandas.pydata.org/pandas-docs/stable/user_guide/indexing.html#returning-a-view-versus-a-copy\n",
      "  if __name__ == '__main__':\n"
     ]
    }
   ],
   "source": [
    "df_DB=pd.read_csv('RM_Database.csv')\n",
    "print (df_DB.columns)\n",
    "cols=['mrn','date_of_primary_diagnosis']\n",
    "df_DB=df_DB[cols]\n",
    "df_DB.dropna(inplace=True,subset=['date_of_primary_diagnosis'])\n",
    "print (df_DB)\n",
    "\n",
    "df_to_add=df[['mrn','date_of_initial_diagnosis']]\n",
    "df_to_add.drop_duplicates(keep='first',subset=['date_of_initial_diagnosis'],inplace=True)\n",
    "print (df_to_add)"
   ]
  },
  {
   "cell_type": "code",
   "execution_count": 22,
   "metadata": {},
   "outputs": [
    {
     "name": "stdout",
     "output_type": "stream",
     "text": [
      "          mrn  date_dx_DB date_dx_registry\n",
      "0      218087  2011-03-15       03/02/2011\n",
      "1      218644  2010-11-03       11/04/2010\n",
      "2      296701  2011-07-15       06/30/2011\n",
      "3      372090  2007-04-17       02/26/1999\n",
      "4      421991  2012-08-07       06/29/2012\n",
      "...       ...         ...              ...\n",
      "1570  3867621  2019-05-29       05/31/2019\n",
      "1571  3868198  2019-06-03       06/03/2019\n",
      "1572  3874860  2019-06-26       06/26/2019\n",
      "1573  3875964  2019-06-25       06/25/2019\n",
      "1574  3879612  2019-07-11       07/11/2019\n",
      "\n",
      "[1575 rows x 3 columns]\n",
      "                mrn         diff\n",
      "count  1.523000e+03  1523.000000\n",
      "mean   2.968609e+06   306.300066\n",
      "std    6.679278e+05   735.464795\n",
      "min    2.180870e+05     0.000000\n",
      "25%    2.786592e+06    11.000000\n",
      "50%    3.111036e+06    25.000000\n",
      "75%    3.374616e+06   183.500000\n",
      "max    3.879612e+06  7259.000000\n"
     ]
    }
   ],
   "source": [
    "df_merge=df_DB.merge(df_to_add,on='mrn',how='inner')\n",
    "df_merge.columns=['mrn','date_dx_DB','date_dx_registry']\n",
    "print (df_merge)\n",
    "df_merge['date_dx_DB']=pd.to_datetime(df_merge['date_dx_DB'])\n",
    "df_merge['date_dx_registry']=pd.to_datetime(df_merge['date_dx_registry'])\n",
    "\n",
    "\n",
    "diffs=[]\n",
    "for index,row in df_merge.iterrows():\n",
    "    diff=row['date_dx_DB']-row['date_dx_registry']\n",
    "    diffs.append(abs(diff.days))\n",
    "df_merge['diff']=diffs\n",
    "\n",
    "df_merge=df_merge[df_merge['date_dx_registry']>='2000']\n",
    "\n",
    "print (df_merge.describe())\n",
    "#df_merge.to_csv('examine.csv',index=False)"
   ]
  }
 ],
 "metadata": {
  "kernelspec": {
   "display_name": "Python 3",
   "language": "python",
   "name": "python3"
  },
  "language_info": {
   "codemirror_mode": {
    "name": "ipython",
    "version": 3
   },
   "file_extension": ".py",
   "mimetype": "text/x-python",
   "name": "python",
   "nbconvert_exporter": "python",
   "pygments_lexer": "ipython3",
   "version": "3.7.6"
  }
 },
 "nbformat": 4,
 "nbformat_minor": 4
}
