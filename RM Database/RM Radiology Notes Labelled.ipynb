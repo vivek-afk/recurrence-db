{
 "cells": [
  {
   "cell_type": "code",
   "execution_count": 7,
   "metadata": {},
   "outputs": [
    {
     "name": "stdout",
     "output_type": "stream",
     "text": [
      "df size: 127683\n",
      "Index(['Cancer', 'Impression', 'MRN', 'Accession', 'Scan Type', 'Scan Date',\n",
      "       'Training Set', 'Model1 Prediction', 'Model2 Prediction'],\n",
      "      dtype='object')\n",
      "num of unique impressions: 79468\n",
      "finished set of 10,000 impressions\n",
      "finished set of 10,000 impressions\n",
      "finished set of 10,000 impressions\n",
      "finished set of 10,000 impressions\n",
      "finished set of 10,000 impressions\n",
      "finished set of 10,000 impressions\n",
      "finished set of 10,000 impressions\n",
      "   Cancer                                         Impression      MRN  \\\n",
      "0       0                               No brain metastases.  2680460   \n",
      "1       0  Possible post-therapeutic changes to the parot...  2680460   \n",
      "\n",
      "  Accession        Scan Type  Scan Date  Training Set  Model1 Prediction  \\\n",
      "0   5399656  CT INFUSED HEAD  9/30/2003          True           0.041939   \n",
      "1   5399656  CT INFUSED HEAD  9/30/2003          True           0.000488   \n",
      "\n",
      "   Model2 Prediction  \n",
      "0                NaN  \n",
      "1                NaN  \n"
     ]
    }
   ],
   "source": [
    "import pandas as pd\n",
    "import numpy as np\n",
    "\n",
    "df=pd.read_csv('radiology_impression_prediction_final.csv')\n",
    "print ('df size:',df.shape[0])\n",
    "print (df.columns)\n",
    "\n",
    "# group by Accession\n",
    "a_nums=df.Accession.unique()\n",
    "grouped_dfs=[]\n",
    "print ('num of unique impressions:',len(a_nums))\n",
    "for index,num in enumerate(a_nums):\n",
    "    sub_df=df[df['Accession']==num]\n",
    "    grouped_dfs.append(sub_df)\n",
    "    if index!=0 and index%10000==0:\n",
    "        print('finished set of 10,000 impressions')\n",
    "print (grouped_dfs[0])"
   ]
  },
  {
   "cell_type": "code",
   "execution_count": 10,
   "metadata": {},
   "outputs": [],
   "source": [
    "### re-create impressions using grouped df\n",
    "# info to include: MRN, Accession, Scan Date, Scan Type, Impression (re-built), Cancer\n",
    "data=[]\n",
    "for index,sub_df in enumerate(grouped_dfs):\n",
    "    MRN=sub_df.iloc[0]['MRN']\n",
    "    Accession=sub_df.iloc[0]['Accession']\n",
    "    date=sub_df.iloc[0]['Scan Date']\n",
    "    scan_type=sub_df.iloc[0]['Scan Type']\n",
    "    impression=''\n",
    "    cancer_status=0\n",
    "    ### only have cancer if Cancer=1 for some line of that impression\n",
    "    if 1 in sub_df.Cancer.unique():\n",
    "        cancer_status=1\n",
    "    for index,row in sub_df.iterrows():\n",
    "        impression=impression+row['Impression']+' '\n",
    "    datum=[MRN,Accession,date,scan_type,impression,cancer_status]\n",
    "    data.append(datum)\n",
    "df_to_export=pd.DataFrame(data=data,columns=['mrn','accession','enc_date','scan_type','impression','cancer_status'])\n",
    "df_to_export.to_csv('examine.csv',index=False)"
   ]
  },
  {
   "cell_type": "code",
   "execution_count": 13,
   "metadata": {},
   "outputs": [
    {
     "name": "stdout",
     "output_type": "stream",
     "text": [
      "See body of report                                                    Attendng: Peter Jokich, MD                                                                  Fellow:   Arthur Stillman, MD                                                               Resident:   Technicn:   Transcbr:  0\n",
      "No intracranial hemorrhage. No brain masses. No masses or lymphadenopathy within the neck. Post-therapy changes in the right neck. Chronic maxillary sinusitis. Chronic mastoiditis on the left.    0\n",
      "No intracranial hemorrhage. No brain masses. No masses or lymphadenopathy within the neck. Post-therapy changes in the right neck. Chronic maxillary sinusitis. Chronic mastoiditis on the left.    0\n",
      " No evidence of intrathoracic or upper abdominal primary or metastatic neoplasm.  Clear lungs, except for minimal and localized left apical post-infectious or post-radiation scarring, and no evidence of active lung disease.  Normal heart size and pulmonary perfusion.  A small right renal cyst is insignificant.    RESULT ID / ADDENDUM:   2270374 / 0  Ordering Physician:    EVERETT VOKES Principal Interpreter: JOHN J. FENNESSY Assistant Interpreter:  .  Transcriptionist:      LORRAINE GIDDENS  0\n",
      " Maximal exercise was attempted:  suboptimal heart rate, but adequate peak pressure-rate product were attained.  A hypertensive response to exercise occurred.  The stress electrocardiogram demonstrated evidence compatible with myocardial ischemia.  Borderline-abnormal myocardial perfusion scintigraphy with evidence suggestive of exercise induced reversible myocardial ischemia in the usual distribution of the right coronary artery, but without definite evidence for myocardial infarction. Diaphragmatic attenuation of the inferior wall was present.  Chest wall attenuation was evident in the images.  Gated perfusion images demonstrated normal LV size with low-normal systolic performance, and with normal peak diastolic filling rate.  Regional function analysis at rest revealed normal wall motion.  This mild perfusion abnormality may reflect poor regional coronary flow reserve, and is not likely to be due to a critical arterial stenosis.  However, a repeat study (at 12 to 24 months) may be useful.  PROCEDURE: Exercise myocardial perfusion scintigraphy was performed with tomographic imaging using an Elscint gamma camera, in the prone position.  In addition, ventricular function analysis using gated tomographic myocardial perfusion imaging was performed at rest.  Dose of Thallium-201 injected at rest = 4.3  mCi. Dose of Tc-99m-Tetrofosmin injected at stress = 30.8  mCi. Weight = 195  lbs.    Height = 70  in.    BSA = 2.11  m-sqr. Exercise protocol:  Bruce. Medications:  Synthroid, Adalat.  EXERCISE FINDINGS:            REST              STRESS Blood pressure:                      180/100               226/138    mm Hg Heart rate:                                   62                      155        BPM Pressure-rate product:              11.2                    35.0       x 1000 Target heart rate:                                   158                      BPM Exercise duration:                                  5:30                     min:sec ECG AND SYMPTOMS:  The patient stopped due to leg fatigue.  He did not develop chest pain.  The resting ECG was normal.  A maximum of 1.8 mm downsloping ST-depression occurred in the lateral leads during exercise.  The abnormality began at 4:05 of exercise, and resolved by 2.54 of recovery.  There were occasional premature atrial contractions and premature ventricular contractions with exercise and in recovery.  SCINTIGRAPHIC FINDINGS: Comparison of stress images with those obtained at rest was performed.  Quantitative tomographic myocardial perfusion imaging revealed the following abnormalities:  LOCATION:         EXTENT         SEVERITY      REVERSIBILITY Anterior:                          0                0                0 Anterolateral:                  0                0                0 Lateral:                           0                0                0 Inferolateral:                   0                0                0 Inferoposterior:               2                1                3 Inferoseptal:                   2                1                3 Septal:                            0                0                0 Anteroseptal:                  0                0                0 Apical:      0                0                0 [KEY:  EXTENT: 1 = small, 2 = moderate, 3 = large. SEVERITY:      1 = borderline, 2 = mild, 3 = moderate, 4 = severe. REVERSIBILITY: 0 = none, 1 = minimal, 2 = partial, 3 = complete.]  The perfusion defect score was 4 (out of a possible 100), involving approximately 15% of the LV myocardium.  The inferior wall showed diminished tracer intensity, most likely due to attenuation of counts by the diaphragm.  There were photopenic regions attributable to overlying chest wall attenuation of the myocardial tracer intensity. The overall defect reversibility index was 100%.  GATED VENTRICULAR FUNCTION ANALYSIS:             RESTING LV ejection fraction [tomographic]:                                              51 % LV peak diastolic filling rate: 2.8  EDV/sec  REGIONAL WALL MOTION ANALYSIS: Normal resting LV regional wall motion. @     RESULT ID / ADDENDUM:   2286432 / 0  Ordering Physician:    WILLIAM HARPER Principal Interpreter: KIM WILLIAMS Assistant Interpreter:  .  Transcriptionist:      KIM WILLIAMS  0\n",
      " Maximal exercise was attempted:  suboptimal heart rate, but adequate peak pressure-rate product were attained.  A hypertensive response to exercise occurred.  The stress electrocardiogram demonstrated evidence compatible with myocardial ischemia.  Borderline-abnormal myocardial perfusion scintigraphy with evidence suggestive of exercise induced reversible myocardial ischemia in the usual distribution of the right coronary artery, but without definite evidence for myocardial infarction. Diaphragmatic attenuation of the inferior wall was present.  Chest wall attenuation was evident in the images.  Gated perfusion images demonstrated normal LV size with low-normal systolic performance, and with normal peak diastolic filling rate.  Regional function analysis at rest revealed normal wall motion.  This mild perfusion abnormality may reflect poor regional coronary flow reserve, and is not likely to be due to a critical arterial stenosis.  However, a repeat study (at 12 to 24 months) may be useful.  PROCEDURE: Exercise myocardial perfusion scintigraphy was performed with tomographic imaging using an Elscint gamma camera, in the prone position.  In addition, ventricular function analysis using gated tomographic myocardial perfusion imaging was performed at rest.  Dose of Thallium-201 injected at rest = 4.3  mCi. Dose of Tc-99m-Tetrofosmin injected at stress = 30.8  mCi. Weight = 195  lbs.    Height = 70  in.    BSA = 2.11  m-sqr. Exercise protocol:  Bruce. Medications:  Synthroid, Adalat.  EXERCISE FINDINGS:            REST              STRESS Blood pressure:                      180/100               226/138    mm Hg Heart rate:                                   62                      155        BPM Pressure-rate product:              11.2                    35.0       x 1000 Target heart rate:                                   158                      BPM Exercise duration:                                  5:30                     min:sec ECG AND SYMPTOMS:  The patient stopped due to leg fatigue.  He did not develop chest pain.  The resting ECG was normal.  A maximum of 1.8 mm downsloping ST-depression occurred in the lateral leads during exercise.  The abnormality began at 4:05 of exercise, and resolved by 2.54 of recovery.  There were occasional premature atrial contractions and premature ventricular contractions with exercise and in recovery.  SCINTIGRAPHIC FINDINGS: Comparison of stress images with those obtained at rest was performed.  Quantitative tomographic myocardial perfusion imaging revealed the following abnormalities:  LOCATION:         EXTENT         SEVERITY      REVERSIBILITY Anterior:                          0                0                0 Anterolateral:                  0                0                0 Lateral:                           0                0                0 Inferolateral:                   0                0                0 Inferoposterior:               2                1                3 Inferoseptal:                   2                1                3 Septal:                            0                0                0 Anteroseptal:                  0                0                0 Apical:      0                0                0 [KEY:  EXTENT: 1 = small, 2 = moderate, 3 = large. SEVERITY:      1 = borderline, 2 = mild, 3 = moderate, 4 = severe. REVERSIBILITY: 0 = none, 1 = minimal, 2 = partial, 3 = complete.]  The perfusion defect score was 4 (out of a possible 100), involving approximately 15% of the LV myocardium.  The inferior wall showed diminished tracer intensity, most likely due to attenuation of counts by the diaphragm.  There were photopenic regions attributable to overlying chest wall attenuation of the myocardial tracer intensity. The overall defect reversibility index was 100%.  GATED VENTRICULAR FUNCTION ANALYSIS:             RESTING LV ejection fraction [tomographic]:                                              51 % LV peak diastolic filling rate: 2.8  EDV/sec  REGIONAL WALL MOTION ANALYSIS: Normal resting LV regional wall motion. @     RESULT ID / ADDENDUM:   2286432 / 0  Ordering Physician:    WILLIAM HARPER Principal Interpreter: KIM WILLIAMS Assistant Interpreter:  .  Transcriptionist:      KIM WILLIAMS  0\n",
      " Maximal exercise was attempted:  suboptimal heart rate, but adequate peak pressure-rate product were attained.  A hypertensive response to exercise occurred.  The stress electrocardiogram demonstrated evidence compatible with myocardial ischemia.  Borderline-abnormal myocardial perfusion scintigraphy with evidence suggestive of exercise induced reversible myocardial ischemia in the usual distribution of the right coronary artery, but without definite evidence for myocardial infarction. Diaphragmatic attenuation of the inferior wall was present.  Chest wall attenuation was evident in the images.  Gated perfusion images demonstrated normal LV size with low-normal systolic performance, and with normal peak diastolic filling rate.  Regional function analysis at rest revealed normal wall motion.  This mild perfusion abnormality may reflect poor regional coronary flow reserve, and is not likely to be due to a critical arterial stenosis.  However, a repeat study (at 12 to 24 months) may be useful.  PROCEDURE: Exercise myocardial perfusion scintigraphy was performed with tomographic imaging using an Elscint gamma camera, in the prone position.  In addition, ventricular function analysis using gated tomographic myocardial perfusion imaging was performed at rest.  Dose of Thallium-201 injected at rest = 4.3  mCi. Dose of Tc-99m-Tetrofosmin injected at stress = 30.8  mCi. Weight = 195  lbs.    Height = 70  in.    BSA = 2.11  m-sqr. Exercise protocol:  Bruce. Medications:  Synthroid, Adalat.  EXERCISE FINDINGS:            REST              STRESS Blood pressure:                      180/100               226/138    mm Hg Heart rate:                                   62                      155        BPM Pressure-rate product:              11.2                    35.0       x 1000 Target heart rate:                                   158                      BPM Exercise duration:                                  5:30                     min:sec ECG AND SYMPTOMS:  The patient stopped due to leg fatigue.  He did not develop chest pain.  The resting ECG was normal.  A maximum of 1.8 mm downsloping ST-depression occurred in the lateral leads during exercise.  The abnormality began at 4:05 of exercise, and resolved by 2.54 of recovery.  There were occasional premature atrial contractions and premature ventricular contractions with exercise and in recovery.  SCINTIGRAPHIC FINDINGS: Comparison of stress images with those obtained at rest was performed.  Quantitative tomographic myocardial perfusion imaging revealed the following abnormalities:  LOCATION:         EXTENT         SEVERITY      REVERSIBILITY Anterior:                          0                0                0 Anterolateral:                  0                0                0 Lateral:                           0                0                0 Inferolateral:                   0                0                0 Inferoposterior:               2                1                3 Inferoseptal:                   2                1                3 Septal:                            0                0                0 Anteroseptal:                  0                0                0 Apical:      0                0                0 [KEY:  EXTENT: 1 = small, 2 = moderate, 3 = large. SEVERITY:      1 = borderline, 2 = mild, 3 = moderate, 4 = severe. REVERSIBILITY: 0 = none, 1 = minimal, 2 = partial, 3 = complete.]  The perfusion defect score was 4 (out of a possible 100), involving approximately 15% of the LV myocardium.  The inferior wall showed diminished tracer intensity, most likely due to attenuation of counts by the diaphragm.  There were photopenic regions attributable to overlying chest wall attenuation of the myocardial tracer intensity. The overall defect reversibility index was 100%.  GATED VENTRICULAR FUNCTION ANALYSIS:             RESTING LV ejection fraction [tomographic]:                                              51 % LV peak diastolic filling rate: 2.8  EDV/sec  REGIONAL WALL MOTION ANALYSIS: Normal resting LV regional wall motion. @     RESULT ID / ADDENDUM:   2286432 / 0  Ordering Physician:    WILLIAM HARPER Principal Interpreter: KIM WILLIAMS Assistant Interpreter:  .  Transcriptionist:      KIM WILLIAMS  0\n",
      "  No evidence of intrathoracic metastasis or a new primary tumor.  Lungs are clear and volumes within the normal range.  Normal heart size and pulmonary perfusion.       0\n",
      "  Successful placement of a button pull-type gastrostomy tube with a length of 3.4 cm.  The patient is scheduled to return in two weeks for T-tack removal.  Dr. Leef was present for the entire procedure.        0\n",
      "  Successful placement of a button pull-type gastrostomy tube with a length of 3.4 cm.  The patient is scheduled to return in two weeks for T-tack removal.  Dr. Leef was present for the entire procedure.        0\n",
      " Hypo-inflated lungs are clear.  Moderate-to-marked nonspecific cardiomegaly with aortic unfolding. Tip of the tracheostomy tube at the thoracic inlet.  Large amount of gas and inspissated contrast material within the colon.  I cannot exclude a distal colonic fecal/contrast impaction, or obstruction of other etiology.     0\n",
      " OPM study was performed.     0\n",
      "  Successful replacement of a pull-PEG type G-tube with a 20 French MIC G-tube, with position confirmed fluoroscopically.  Dr. Rosenblum was present for the entire procedure.          0\n",
      "  Successful replacement of a pull-PEG type G-tube with a 20 French MIC G-tube, with position confirmed fluoroscopically.  Dr. Rosenblum was present for the entire procedure.          0\n",
      "  The existing newly replaced G-tube is in good position and functioning well.  A new external device was added to prevent leakage from the external connector site.     0\n",
      " Fluoroscopic monitoring was provided to the speech pathology service during the performance of an OPM.  Mild penetration and aspiration was identified on multiple swallowing trials.    0\n",
      "New interval postoperative findings compatible with left neck flap reconstruction. No evidence of recurrent or residual tumor.     0\n",
      " Findings are compatible with chronic aspiration and less likely represents lymphangtic metastasis. Recommend follow-up CT in 2 months for further delineation.    0\n",
      "New interval postoperative findings compatible with left neck flap reconstruction. No evidence of recurrent or residual tumor.     0\n",
      "  I cannot identify any evidence of pulmonary metastasis and bi-basal interstitial disease, which has not changed.  Morphologically, it is more compatible with aspirate than with tumor.  No evidence of hilar or mediastinal lymphadenopathy, or intra-abdominal metastasis.  Normal heart size.     1\n",
      "  Findings suspicious for tumor recurrence in the left soft tissues of the neck.         1\n",
      "Appearance of post-radiation change in the upper thoracic spine.  Correlate with patient history. Increased activity in the sternoclavicular joint and right first rib and right lumbar spine , which are most consistent           with DJD, but cannot definitively exclude metastatic involvement.  Correlate further with plain radiographs. Activity in the right costal cartilage consistent with old trauma. Visualization of the right ureter, possibly consistent with distal obstruction in the urinary collecting system.                     Recommend further evaluation with ultrasound exam to rule out hydroureter. No scintigraphic evidence to suggest widespread foci of activity characteristic of metastatic disease.     0\n",
      "  Large enhancing and partially necrotic mass lesion located deep to the patient's musculocutaneous flap within the left neck soft tissues extending from the hyoid down to the clavicle.          1\n",
      "  Several ill defined, nonspecific pulmonary nodules bilaterally, none typical of metastasis but the most \"metastasis-like\" is in the lateral segment of the right middle lobe abutting the pleura (series 3, image 31) and measures approximately 8 mm in diameter.  Other lesions on the right are smaller and less distinct (for example, image 28, 33, 34, and 38; and on the left, images 34 and 42). Less \"nodular\" opacities, in some areas accompanied by linear scarring or adhesion atelectasis, particularly in the left lower lobe, are present elsewhere bilaterally and it may be that the metastasis-like abnormalities are also due to aspirate.  No conclusive evidence of intrathoracic or abdominal metastasis.  Normal heart size.          0\n",
      "  Large enhancing and partially necrotic mass lesion located deep to the patient's musculocutaneous flap within the left neck soft tissues extending from the hyoid down to the clavicle.          1\n",
      " Normal examination of the chest.  No significant change since the study of 11/9/00.          0\n",
      "No evidence of brain metastasis. No significant change in the left necrotic neck mass.         0\n",
      "No evidence of brain metastasis. No significant change in the left necrotic neck mass.         0\n",
      "Changes in the upper thoracic spine consistent with post radiation. Increased activity in the sternoclavicular joint, the right first rib and right lumbar spine are consistent with degenerative joint disease, but metastatic involvement cannot be excluded, correlation with plain radiographs is recommended. Activity in the right costal cartilage consistent with old trauma. Persistent activity in the distal right ureter, unchanged from previous study.         0\n",
      "  The \"nodules\" that were present previously, even the most suspicious one in the middle lobe, have resolved except for one inhomogeneous opacity in the lateral basal segment of the left lower lobe that appears larger than it did previously (images 49-52) morphologically atypical for a metastasis and more compatible with aspirate or infection.  No evidence of intrathoracic lymphadenopathy.  Heart size normal.  There may be a very small and localized calcified plaque in the proximal LAD though this appearance could be produced by summation artifact.  No evidence of intra-abdominal metastasis.          0\n"
     ]
    }
   ],
   "source": [
    "### convert enc_date to DateTime\n",
    "df=pd.read_csv('examine.csv')\n",
    "df['enc_date']=pd.to_datetime(df['enc_date'])\n",
    "df=df.sort_values(by='enc_date')\n",
    "\n",
    "### group by mrn\n",
    "mrns=df.mrn.unique()\n",
    "ptx_info=[]\n",
    "for mrn in mrns:\n",
    "    sub_df=df[df['mrn']==mrn]\n",
    "    ptx_info.append(sub_df)\n",
    "df_test=ptx_info[0]"
   ]
  },
  {
   "cell_type": "code",
   "execution_count": 19,
   "metadata": {},
   "outputs": [
    {
     "name": "stderr",
     "output_type": "stream",
     "text": [
      "C:\\Users\\12488\\python\\lib\\site-packages\\ipykernel_launcher.py:13: SettingWithCopyWarning: \n",
      "A value is trying to be set on a copy of a slice from a DataFrame.\n",
      "Try using .loc[row_indexer,col_indexer] = value instead\n",
      "\n",
      "See the caveats in the documentation: https://pandas.pydata.org/pandas-docs/stable/user_guide/indexing.html#returning-a-view-versus-a-copy\n",
      "  del sys.path[0]\n"
     ]
    }
   ],
   "source": [
    "total_df=pd.DataFrame()\n",
    "for i,ptx in enumerate(ptx_info):\n",
    "    is_RM=[]\n",
    "    has_cancer=False\n",
    "    for index,row in ptx.iterrows():\n",
    "        if row['cancer_status']==1:\n",
    "            is_RM.append(1)\n",
    "            has_cancer=True\n",
    "        elif row['cancer_status']==0 and has_cancer:\n",
    "            is_RM.append(1)\n",
    "        elif row['cancer_status']==0 and not has_cancer:\n",
    "            is_RM.append(0)\n",
    "    ptx_info[i]['is_RM']=is_RM\n",
    "    total_df=total_df.append(ptx_info[i])\n",
    "#print (total_df)\n",
    "df_to_export=total_df[['enc_date','mrn','is_RM']]\n",
    "df_to_export.columns=['date_of_service_dttm','mrn','is_RM']\n",
    "df_to_export.to_csv('RM_MCs_radiology.csv',index=False)"
   ]
  }
 ],
 "metadata": {
  "kernelspec": {
   "display_name": "Python 3",
   "language": "python",
   "name": "python3"
  },
  "language_info": {
   "codemirror_mode": {
    "name": "ipython",
    "version": 3
   },
   "file_extension": ".py",
   "mimetype": "text/x-python",
   "name": "python",
   "nbconvert_exporter": "python",
   "pygments_lexer": "ipython3",
   "version": "3.7.6"
  }
 },
 "nbformat": 4,
 "nbformat_minor": 4
}
