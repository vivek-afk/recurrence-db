{
 "cells": [
  {
   "cell_type": "code",
   "execution_count": 3,
   "metadata": {},
   "outputs": [
    {
     "name": "stdout",
     "output_type": "stream",
     "text": [
      "Index(['date_of_service_dttm', 'mrn', 'is_RM'], dtype='object')\n",
      "          date      mrn  is_RM\n",
      "0   1996-02-26  2050963      0\n",
      "1   2009-01-23  2050963      0\n",
      "2   2009-10-01  2050963      0\n",
      "3   2010-02-19  2050963      0\n",
      "4   2010-03-01  2050963      0\n",
      "..         ...      ...    ...\n",
      "58  2016-01-19  2050963      1\n",
      "59  2016-01-20  2050963      1\n",
      "60  2016-02-08  2050963      1\n",
      "61  2016-03-02  2050963      1\n",
      "62  2016-03-04  2050963      1\n",
      "\n",
      "[63 rows x 3 columns]\n"
     ]
    }
   ],
   "source": [
    "import pandas as pd\n",
    "import numpy as np\n",
    "\n",
    "file='RM_MCs.csv'\n",
    "df=pd.read_csv(file)\n",
    "print (df.columns)\n",
    "df.columns=['date','mrn','is_RM']\n",
    "\n",
    "mrns=df.mrn.unique()\n",
    "ptx_info=[]\n",
    "for mrn in mrns:\n",
    "    sub_df=df[df['mrn']==mrn]\n",
    "    ptx_info.append(sub_df)\n",
    "print (ptx_info[0])"
   ]
  },
  {
   "cell_type": "code",
   "execution_count": 10,
   "metadata": {},
   "outputs": [
    {
     "name": "stdout",
     "output_type": "stream",
     "text": [
      "         mrn treatment_end_date  RM_flag    RM_date_ last_date_on_file\n",
      "0    2050963         1996-02-26        1  2014-10-01        2016-03-04\n",
      "1    2460803         1999-04-01        1  1999-04-01        2014-07-18\n",
      "2    2714226         1999-07-01        1  2000-02-01        2013-06-14\n",
      "3    2209904         2000-09-08        1  2000-09-08        2018-06-18\n",
      "4    3535060         2002-01-01        1  2016-03-01        2017-05-31\n",
      "..       ...                ...      ...         ...               ...\n",
      "166  3769590         2018-04-01        1  2018-08-07        2018-12-12\n",
      "167  3749634         2018-04-02        1  2018-06-08        2018-10-29\n",
      "168  3447668         2018-05-17        0                    2018-11-05\n",
      "169  3793494         2018-07-13        1  2018-07-13        2018-12-11\n",
      "170  3715744         2018-07-17        1  2018-07-17        2018-09-14\n",
      "\n",
      "[171 rows x 5 columns]\n"
     ]
    }
   ],
   "source": [
    "### get treatment end date, RM_flag, RM_date_auto, last date on file\n",
    "data=[]\n",
    "for index,ptx in enumerate(ptx_info):\n",
    "    ### get mrn\n",
    "    mrn=ptx.iloc[0]['mrn']\n",
    "    ### tx end date is earliest date on file\n",
    "    treatment_end_date=ptx.iloc[0]['date']\n",
    "    ### last date on file is what it sounds like\n",
    "    last_date_on_file=ptx.iloc[-1]['date']\n",
    "    ### get RM_flag - 0 is never RM and 1 is some RM\n",
    "    RM_sum=ptx['is_RM'].sum()\n",
    "    if RM_sum==0:\n",
    "        RM_flag=0\n",
    "    else:\n",
    "        RM_flag=1\n",
    "    ### get RM Date auto\n",
    "    RM_date=''\n",
    "    if RM_flag==1:\n",
    "        keep_going=True\n",
    "        for i, row in ptx.iterrows():\n",
    "            if keep_going and row['is_RM']==1:\n",
    "                RM_date=row['date']\n",
    "                keep_going=False\n",
    "    ### make datum and append\n",
    "    datum=[mrn,treatment_end_date,RM_flag,RM_date,last_date_on_file]\n",
    "    data.append(datum)\n",
    "df_export=pd.DataFrame(data=data,columns=['mrn','treatment_end_date','RM_flag','RM_date_','last_date_on_file'])\n",
    "print (df_export)\n",
    "df_export.to_csv('RM_auto_info.csv',index=False)"
   ]
  }
 ],
 "metadata": {
  "kernelspec": {
   "display_name": "Python 3",
   "language": "python",
   "name": "python3"
  },
  "language_info": {
   "codemirror_mode": {
    "name": "ipython",
    "version": 3
   },
   "file_extension": ".py",
   "mimetype": "text/x-python",
   "name": "python",
   "nbconvert_exporter": "python",
   "pygments_lexer": "ipython3",
   "version": "3.7.6"
  }
 },
 "nbformat": 4,
 "nbformat_minor": 4
}
