{
 "cells": [
  {
   "cell_type": "code",
   "execution_count": 10,
   "metadata": {},
   "outputs": [
    {
     "name": "stdout",
     "output_type": "stream",
     "text": [
      "449230\n",
      "Index(['mrn', 'bill_num', 'HAR', 'HAR_MASTER', 'enc_date', 'enc_type_c',\n",
      "       'encounter_type', 'ed_arrival_dttm', 'hosp_adm_dttm', 'hosp_dc_dttm',\n",
      "       'department', 'disch_disp_c', 'disch_disp'],\n",
      "      dtype='object')\n"
     ]
    },
    {
     "name": "stderr",
     "output_type": "stream",
     "text": [
      "C:\\Users\\12488\\python\\lib\\site-packages\\IPython\\core\\interactiveshell.py:3063: DtypeWarning:\n",
      "\n",
      "Columns (1) have mixed types.Specify dtype option on import or set low_memory=False.\n",
      "\n"
     ]
    }
   ],
   "source": [
    "import pandas as pd\n",
    "import numpy as np\n",
    "\n",
    "file_name='ENT_CA_DM_Encounters.txt'\n",
    "df=pd.read_csv(file_name, delimiter='|',error_bad_lines=False)\n",
    "print (df.shape[0])\n",
    "print(df.columns)\n",
    "cols=['mrn','enc_date','encounter_type','department']\n",
    "df=df[cols]"
   ]
  },
  {
   "cell_type": "code",
   "execution_count": 11,
   "metadata": {},
   "outputs": [
    {
     "name": "stdout",
     "output_type": "stream",
     "text": [
      "HEMATOLOGY/ONCOLOGY      77543\n",
      "RADIATION ONCOLOGY       67888\n",
      "OTOLARYNGOLOGY           60734\n",
      "IV THERAPY               27097\n",
      "SPEECH & SWALLOWING      12156\n",
      "                         ...  \n",
      "GENERAL PEDIATRICS           1\n",
      "GYN/ONC OFF SITE             1\n",
      "PATIENT ACCESS CENTER        1\n",
      "LAKE PARK OB/GYN             1\n",
      "OPHTHALMOLOGY-MAGNA          1\n",
      "Name: department, Length: 492, dtype: int64\n",
      "Number of rad/onc notes: 67888\n",
      "Number of rad/onc TREATMENT notes: 17772\n",
      "Number of rad/onc notes assoc with target patients: 2412\n"
     ]
    }
   ],
   "source": [
    "### filter for radonc\n",
    "print (df.department.value_counts())\n",
    "df_rad=df[df['department']=='RADIATION ONCOLOGY']\n",
    "print ('Number of rad/onc notes:',df_rad.shape[0])\n",
    "\n",
    "### filter for treatment\n",
    "#df_rad=df_rad[(df_rad['encounter_type']=='Office Visit')|(df_rad['encounter_type']=='Treatment')]\n",
    "df_rad=df_rad[df_rad['encounter_type']=='Treatment']\n",
    "print ('Number of rad/onc TREATMENT notes:',df_rad.shape[0])\n",
    "\n",
    "\n",
    "### filter for target mrns\n",
    "file='all_mrns_of_interest.csv'\n",
    "mrn_df=pd.read_csv(file)\n",
    "mrns_of_interest=mrn_df.MRN.unique()\n",
    "df_rad=df_rad[df_rad['mrn'].isin(mrns_of_interest)]\n",
    "print ('Number of rad/onc notes assoc with target patients:',df_rad.shape[0])"
   ]
  },
  {
   "cell_type": "code",
   "execution_count": 12,
   "metadata": {},
   "outputs": [
    {
     "name": "stdout",
     "output_type": "stream",
     "text": [
      "Number of unique patients: 116\n"
     ]
    }
   ],
   "source": [
    "### sort by date\n",
    "df_rad['enc_date']=df_rad['enc_date'].apply(lambda d:d.split(' ')[0])\n",
    "df_rad['enc_date']=pd.to_datetime(df_rad['enc_date'],errors='coerce',infer_datetime_format=True)\n",
    "df_rad=df_rad.sort_values(by='enc_date')\n",
    "### seperate dataframe by paitent\n",
    "unique_mrns=df_rad.mrn.unique()\n",
    "ptx_info=[]\n",
    "for mrn in unique_mrns:\n",
    "    sub_df=df_rad[df_rad.mrn==mrn]\n",
    "    ptx_info.append(sub_df)\n",
    "print ('Number of unique patients:',len(ptx_info))"
   ]
  },
  {
   "cell_type": "code",
   "execution_count": 13,
   "metadata": {},
   "outputs": [
    {
     "name": "stdout",
     "output_type": "stream",
     "text": [
      "116\n"
     ]
    }
   ],
   "source": [
    "### strain out encounters that are very far apart from other events\n",
    "def is_groupable(df,day_window=14):\n",
    "    '''return boolean list of whether an entry is groupable (is close to other dates)'''\n",
    "    df_func=df\n",
    "    df_func['yesterday']=df['enc_date'].shift(1)\n",
    "    df_func['tomorrow']=df['enc_date'].shift(-1)\n",
    "    flags=[]\n",
    "    for index,row in df.iterrows():\n",
    "        flag=False\n",
    "        today=row['enc_date']\n",
    "        yesterday=row['yesterday']\n",
    "        tomorrow=row['tomorrow']\n",
    "        try:\n",
    "            diff=abs((today-yesterday).days)\n",
    "            if diff<=10:\n",
    "                flag=True\n",
    "        except:\n",
    "            print ('no yesterday')\n",
    "        try:\n",
    "            diff=abs((today-tomorrow).days)\n",
    "            if diff<=10:\n",
    "                flag=True\n",
    "        except:\n",
    "            print ('no tomorrow')\n",
    "        flags.append(flag)\n",
    "    return flags\n",
    "\n",
    "ptx_info_2=[]\n",
    "for index,ptx in enumerate(ptx_info):\n",
    "    mask=is_groupable(ptx_info[index])\n",
    "    ptx_info_2.append(ptx[mask])\n",
    "ptx_info=ptx_info_2\n",
    "print (len(ptx_info))"
   ]
  },
  {
   "cell_type": "code",
   "execution_count": 14,
   "metadata": {},
   "outputs": [
    {
     "name": "stdout",
     "output_type": "stream",
     "text": [
      "103\n",
      "            mrn   enc_date encounter_type          department  yesterday  \\\n",
      "296499  3261049 2012-07-09      Treatment  RADIATION ONCOLOGY        NaT   \n",
      "296500  3261049 2012-07-10      Treatment  RADIATION ONCOLOGY 2012-07-09   \n",
      "296502  3261049 2012-07-12      Treatment  RADIATION ONCOLOGY 2012-07-10   \n",
      "296512  3261049 2012-08-06      Treatment  RADIATION ONCOLOGY 2012-07-12   \n",
      "296513  3261049 2012-08-07      Treatment  RADIATION ONCOLOGY 2012-08-06   \n",
      "296516  3261049 2012-08-09      Treatment  RADIATION ONCOLOGY 2012-08-07   \n",
      "296527  3261049 2012-09-04      Treatment  RADIATION ONCOLOGY 2012-08-09   \n",
      "296529  3261049 2012-09-06      Treatment  RADIATION ONCOLOGY 2012-09-04   \n",
      "296532  3261049 2012-09-08      Treatment  RADIATION ONCOLOGY 2012-09-06   \n",
      "296384  3261049 2013-03-25      Treatment  RADIATION ONCOLOGY 2012-09-08   \n",
      "296386  3261049 2013-03-26      Treatment  RADIATION ONCOLOGY 2013-03-25   \n",
      "296388  3261049 2013-03-27      Treatment  RADIATION ONCOLOGY 2013-03-26   \n",
      "296389  3261049 2013-03-28      Treatment  RADIATION ONCOLOGY 2013-03-27   \n",
      "296392  3261049 2013-03-29      Treatment  RADIATION ONCOLOGY 2013-03-28   \n",
      "\n",
      "         tomorrow  \n",
      "296499 2012-07-10  \n",
      "296500 2012-07-12  \n",
      "296502 2012-08-06  \n",
      "296512 2012-08-07  \n",
      "296513 2012-08-09  \n",
      "296516 2012-09-04  \n",
      "296527 2012-09-06  \n",
      "296529 2012-09-08  \n",
      "296532 2013-03-25  \n",
      "296384 2013-03-26  \n",
      "296386 2013-03-27  \n",
      "296388 2013-03-28  \n",
      "296389 2013-03-29  \n",
      "296392        NaT  \n"
     ]
    }
   ],
   "source": [
    "### filter out empty dfs by combining and then splitting again\n",
    "df_rebuilt=''\n",
    "for index,ptx in enumerate(ptx_info):\n",
    "    if index==0:\n",
    "        df_rebuilt=ptx\n",
    "    else:\n",
    "        df_rebuilt=df_rebuilt.append(ptx)\n",
    "unique_mrns=df_rebuilt.mrn.unique()\n",
    "print (len(unique_mrns))\n",
    "ptx_info=[]\n",
    "for mrn in unique_mrns:\n",
    "    sub_df=df_rebuilt[df_rebuilt['mrn']==mrn]\n",
    "    ptx_info.append(sub_df)\n",
    "print (ptx_info[1])"
   ]
  },
  {
   "cell_type": "code",
   "execution_count": 15,
   "metadata": {},
   "outputs": [
    {
     "name": "stdout",
     "output_type": "stream",
     "text": [
      "[[3276187, 1, Timestamp('2012-07-23 00:00:00'), Timestamp('2012-09-21 00:00:00')], [3276187, 2, Timestamp('2014-01-13 00:00:00'), Timestamp('2014-01-24 00:00:00')]]\n",
      "        mrn  cycle      start        end\n",
      "0   3260592      0 2012-07-02 2012-08-16\n",
      "1   3260592      1 2014-04-01 2014-04-14\n",
      "0   3261049      1 2012-07-09 2012-07-12\n",
      "1   3261049      2 2012-08-06 2012-08-09\n",
      "2   3261049      3 2012-09-04 2012-09-08\n",
      "..      ...    ...        ...        ...\n",
      "0   3769590      0 2018-07-30 2018-08-31\n",
      "0   3108147      0 2018-07-30 2018-08-31\n",
      "0   3793494      0 2018-10-29 2018-11-30\n",
      "0   3797673      1 2018-11-08 2018-11-23\n",
      "0   3497265      1 2020-01-29 2020-01-31\n",
      "\n",
      "[121 rows x 4 columns]\n"
     ]
    }
   ],
   "source": [
    "def assignGroup(df,day_window=14):\n",
    "    '''group encounter by how close it is to other dates, using day_window to classify'''\n",
    "    group=0\n",
    "    designations=[]\n",
    "    for index,row in df.iterrows():\n",
    "        if index==0:\n",
    "            designations.append(group)\n",
    "        if index != 0:\n",
    "            today=row['enc_date']\n",
    "            yesterday=row['yesterday']\n",
    "            diff=abs((today-yesterday).days)\n",
    "            if diff<=day_window:\n",
    "                designations.append(group)\n",
    "            else:\n",
    "                group+=1\n",
    "                designations.append(group)\n",
    "    return designations\n",
    "def getCycles(df):\n",
    "    '''returns list of cycles with: cycle number,start date,end date'''\n",
    "    cycles=df['group'].unique()\n",
    "    toReturn=[]\n",
    "    for cycle in cycles:\n",
    "        sub_df=df[df['group']==cycle]\n",
    "        l=[sub_df.iloc[0]['mrn'],cycle,sub_df.iloc[0]['enc_date'],sub_df.iloc[-1]['enc_date']]\n",
    "        toReturn.append(l)\n",
    "    return toReturn\n",
    "'''get cycles for patients'''\n",
    "\n",
    "data_many=[]\n",
    "for index,ptx in enumerate(ptx_info):\n",
    "    df_working=ptx_info[index]\n",
    "    df_working['group']=assignGroup(df_working)\n",
    "    data_many.append(getCycles(df_working))\n",
    "print (data_many[2])\n",
    "\n",
    "dfs=[]\n",
    "for d in data_many:\n",
    "    sub_df=pd.DataFrame(d,columns=['mrn','cycle','start','end'])\n",
    "    dfs.append(sub_df)\n",
    "df_export=''\n",
    "for index,df_ in enumerate(dfs):\n",
    "    if index==0:\n",
    "        df_export=df_\n",
    "    else:\n",
    "        df_export=df_export.append(df_)\n",
    "# df_export=pd.DataFrame(data,columns=['mrn','cycle','start','end'])\n",
    "print (df_export)\n",
    "df_export.to_csv('RM_radiation_cycles.csv',index=False)"
   ]
  },
  {
   "cell_type": "code",
   "execution_count": 16,
   "metadata": {},
   "outputs": [
    {
     "data": {
      "application/vnd.plotly.v1+json": {
       "config": {
        "plotlyServerURL": "https://plot.ly"
       },
       "data": [
        {
         "fill": "toself",
         "fillcolor": "rgb(33.24, 119.08, 178.34)",
         "hoverinfo": "name",
         "legendgroup": "rgb(33.24, 119.08, 178.34)",
         "mode": "none",
         "name": "1",
         "showlegend": false,
         "type": "scatter",
         "x": [
          "2012-07-09T00:00:00",
          "2012-07-12T00:00:00",
          "2012-07-12T00:00:00",
          "2012-07-09T00:00:00"
         ],
         "y": [
          -0.2,
          -0.2,
          0.2,
          0.2
         ]
        },
        {
         "fill": "toself",
         "fillcolor": "rgb(35.480000000000004, 119.16, 176.68)",
         "hoverinfo": "name",
         "legendgroup": "rgb(35.480000000000004, 119.16, 176.68)",
         "mode": "none",
         "name": "2",
         "showlegend": false,
         "type": "scatter",
         "x": [
          "2012-08-06T00:00:00",
          "2012-08-09T00:00:00",
          "2012-08-09T00:00:00",
          "2012-08-06T00:00:00"
         ],
         "y": [
          -0.2,
          -0.2,
          0.2,
          0.2
         ]
        },
        {
         "fill": "toself",
         "fillcolor": "rgb(37.72, 119.24, 175.02)",
         "hoverinfo": "name",
         "legendgroup": "rgb(37.72, 119.24, 175.02)",
         "mode": "none",
         "name": "3",
         "showlegend": false,
         "type": "scatter",
         "x": [
          "2012-09-04T00:00:00",
          "2012-09-08T00:00:00",
          "2012-09-08T00:00:00",
          "2012-09-04T00:00:00"
         ],
         "y": [
          -0.2,
          -0.2,
          0.2,
          0.2
         ]
        },
        {
         "fill": "toself",
         "fillcolor": "rgb(39.96, 119.32, 173.36)",
         "hoverinfo": "name",
         "legendgroup": "rgb(39.96, 119.32, 173.36)",
         "mode": "none",
         "name": "4",
         "showlegend": false,
         "type": "scatter",
         "x": [
          "2013-03-25T00:00:00",
          "2013-03-29T00:00:00",
          "2013-03-29T00:00:00",
          "2013-03-25T00:00:00"
         ],
         "y": [
          -0.2,
          -0.2,
          0.2,
          0.2
         ]
        },
        {
         "legendgroup": "rgb(33.24, 119.08, 178.34)",
         "marker": {
          "color": "rgb(33.24, 119.08, 178.34)",
          "opacity": 0,
          "size": 1
         },
         "mode": "markers",
         "name": "",
         "showlegend": false,
         "text": [
          null,
          null
         ],
         "type": "scatter",
         "x": [
          "2012-07-09T00:00:00",
          "2012-07-12T00:00:00"
         ],
         "y": [
          0,
          0
         ]
        },
        {
         "legendgroup": "rgb(35.480000000000004, 119.16, 176.68)",
         "marker": {
          "color": "rgb(35.480000000000004, 119.16, 176.68)",
          "opacity": 0,
          "size": 1
         },
         "mode": "markers",
         "name": "",
         "showlegend": false,
         "text": [
          null,
          null
         ],
         "type": "scatter",
         "x": [
          "2012-08-06T00:00:00",
          "2012-08-09T00:00:00"
         ],
         "y": [
          0,
          0
         ]
        },
        {
         "legendgroup": "rgb(37.72, 119.24, 175.02)",
         "marker": {
          "color": "rgb(37.72, 119.24, 175.02)",
          "opacity": 0,
          "size": 1
         },
         "mode": "markers",
         "name": "",
         "showlegend": false,
         "text": [
          null,
          null
         ],
         "type": "scatter",
         "x": [
          "2012-09-04T00:00:00",
          "2012-09-08T00:00:00"
         ],
         "y": [
          0,
          0
         ]
        },
        {
         "legendgroup": "rgb(39.96, 119.32, 173.36)",
         "marker": {
          "color": "rgb(39.96, 119.32, 173.36)",
          "opacity": 0,
          "size": 1
         },
         "mode": "markers",
         "name": "",
         "showlegend": false,
         "text": [
          null,
          null
         ],
         "type": "scatter",
         "x": [
          "2013-03-25T00:00:00",
          "2013-03-29T00:00:00"
         ],
         "y": [
          0,
          0
         ]
        }
       ],
       "layout": {
        "height": 600,
        "hovermode": "closest",
        "showlegend": false,
        "template": {
         "data": {
          "bar": [
           {
            "error_x": {
             "color": "#2a3f5f"
            },
            "error_y": {
             "color": "#2a3f5f"
            },
            "marker": {
             "line": {
              "color": "#E5ECF6",
              "width": 0.5
             }
            },
            "type": "bar"
           }
          ],
          "barpolar": [
           {
            "marker": {
             "line": {
              "color": "#E5ECF6",
              "width": 0.5
             }
            },
            "type": "barpolar"
           }
          ],
          "carpet": [
           {
            "aaxis": {
             "endlinecolor": "#2a3f5f",
             "gridcolor": "white",
             "linecolor": "white",
             "minorgridcolor": "white",
             "startlinecolor": "#2a3f5f"
            },
            "baxis": {
             "endlinecolor": "#2a3f5f",
             "gridcolor": "white",
             "linecolor": "white",
             "minorgridcolor": "white",
             "startlinecolor": "#2a3f5f"
            },
            "type": "carpet"
           }
          ],
          "choropleth": [
           {
            "colorbar": {
             "outlinewidth": 0,
             "ticks": ""
            },
            "type": "choropleth"
           }
          ],
          "contour": [
           {
            "colorbar": {
             "outlinewidth": 0,
             "ticks": ""
            },
            "colorscale": [
             [
              0,
              "#0d0887"
             ],
             [
              0.1111111111111111,
              "#46039f"
             ],
             [
              0.2222222222222222,
              "#7201a8"
             ],
             [
              0.3333333333333333,
              "#9c179e"
             ],
             [
              0.4444444444444444,
              "#bd3786"
             ],
             [
              0.5555555555555556,
              "#d8576b"
             ],
             [
              0.6666666666666666,
              "#ed7953"
             ],
             [
              0.7777777777777778,
              "#fb9f3a"
             ],
             [
              0.8888888888888888,
              "#fdca26"
             ],
             [
              1,
              "#f0f921"
             ]
            ],
            "type": "contour"
           }
          ],
          "contourcarpet": [
           {
            "colorbar": {
             "outlinewidth": 0,
             "ticks": ""
            },
            "type": "contourcarpet"
           }
          ],
          "heatmap": [
           {
            "colorbar": {
             "outlinewidth": 0,
             "ticks": ""
            },
            "colorscale": [
             [
              0,
              "#0d0887"
             ],
             [
              0.1111111111111111,
              "#46039f"
             ],
             [
              0.2222222222222222,
              "#7201a8"
             ],
             [
              0.3333333333333333,
              "#9c179e"
             ],
             [
              0.4444444444444444,
              "#bd3786"
             ],
             [
              0.5555555555555556,
              "#d8576b"
             ],
             [
              0.6666666666666666,
              "#ed7953"
             ],
             [
              0.7777777777777778,
              "#fb9f3a"
             ],
             [
              0.8888888888888888,
              "#fdca26"
             ],
             [
              1,
              "#f0f921"
             ]
            ],
            "type": "heatmap"
           }
          ],
          "heatmapgl": [
           {
            "colorbar": {
             "outlinewidth": 0,
             "ticks": ""
            },
            "colorscale": [
             [
              0,
              "#0d0887"
             ],
             [
              0.1111111111111111,
              "#46039f"
             ],
             [
              0.2222222222222222,
              "#7201a8"
             ],
             [
              0.3333333333333333,
              "#9c179e"
             ],
             [
              0.4444444444444444,
              "#bd3786"
             ],
             [
              0.5555555555555556,
              "#d8576b"
             ],
             [
              0.6666666666666666,
              "#ed7953"
             ],
             [
              0.7777777777777778,
              "#fb9f3a"
             ],
             [
              0.8888888888888888,
              "#fdca26"
             ],
             [
              1,
              "#f0f921"
             ]
            ],
            "type": "heatmapgl"
           }
          ],
          "histogram": [
           {
            "marker": {
             "colorbar": {
              "outlinewidth": 0,
              "ticks": ""
             }
            },
            "type": "histogram"
           }
          ],
          "histogram2d": [
           {
            "colorbar": {
             "outlinewidth": 0,
             "ticks": ""
            },
            "colorscale": [
             [
              0,
              "#0d0887"
             ],
             [
              0.1111111111111111,
              "#46039f"
             ],
             [
              0.2222222222222222,
              "#7201a8"
             ],
             [
              0.3333333333333333,
              "#9c179e"
             ],
             [
              0.4444444444444444,
              "#bd3786"
             ],
             [
              0.5555555555555556,
              "#d8576b"
             ],
             [
              0.6666666666666666,
              "#ed7953"
             ],
             [
              0.7777777777777778,
              "#fb9f3a"
             ],
             [
              0.8888888888888888,
              "#fdca26"
             ],
             [
              1,
              "#f0f921"
             ]
            ],
            "type": "histogram2d"
           }
          ],
          "histogram2dcontour": [
           {
            "colorbar": {
             "outlinewidth": 0,
             "ticks": ""
            },
            "colorscale": [
             [
              0,
              "#0d0887"
             ],
             [
              0.1111111111111111,
              "#46039f"
             ],
             [
              0.2222222222222222,
              "#7201a8"
             ],
             [
              0.3333333333333333,
              "#9c179e"
             ],
             [
              0.4444444444444444,
              "#bd3786"
             ],
             [
              0.5555555555555556,
              "#d8576b"
             ],
             [
              0.6666666666666666,
              "#ed7953"
             ],
             [
              0.7777777777777778,
              "#fb9f3a"
             ],
             [
              0.8888888888888888,
              "#fdca26"
             ],
             [
              1,
              "#f0f921"
             ]
            ],
            "type": "histogram2dcontour"
           }
          ],
          "mesh3d": [
           {
            "colorbar": {
             "outlinewidth": 0,
             "ticks": ""
            },
            "type": "mesh3d"
           }
          ],
          "parcoords": [
           {
            "line": {
             "colorbar": {
              "outlinewidth": 0,
              "ticks": ""
             }
            },
            "type": "parcoords"
           }
          ],
          "pie": [
           {
            "automargin": true,
            "type": "pie"
           }
          ],
          "scatter": [
           {
            "marker": {
             "colorbar": {
              "outlinewidth": 0,
              "ticks": ""
             }
            },
            "type": "scatter"
           }
          ],
          "scatter3d": [
           {
            "line": {
             "colorbar": {
              "outlinewidth": 0,
              "ticks": ""
             }
            },
            "marker": {
             "colorbar": {
              "outlinewidth": 0,
              "ticks": ""
             }
            },
            "type": "scatter3d"
           }
          ],
          "scattercarpet": [
           {
            "marker": {
             "colorbar": {
              "outlinewidth": 0,
              "ticks": ""
             }
            },
            "type": "scattercarpet"
           }
          ],
          "scattergeo": [
           {
            "marker": {
             "colorbar": {
              "outlinewidth": 0,
              "ticks": ""
             }
            },
            "type": "scattergeo"
           }
          ],
          "scattergl": [
           {
            "marker": {
             "colorbar": {
              "outlinewidth": 0,
              "ticks": ""
             }
            },
            "type": "scattergl"
           }
          ],
          "scattermapbox": [
           {
            "marker": {
             "colorbar": {
              "outlinewidth": 0,
              "ticks": ""
             }
            },
            "type": "scattermapbox"
           }
          ],
          "scatterpolar": [
           {
            "marker": {
             "colorbar": {
              "outlinewidth": 0,
              "ticks": ""
             }
            },
            "type": "scatterpolar"
           }
          ],
          "scatterpolargl": [
           {
            "marker": {
             "colorbar": {
              "outlinewidth": 0,
              "ticks": ""
             }
            },
            "type": "scatterpolargl"
           }
          ],
          "scatterternary": [
           {
            "marker": {
             "colorbar": {
              "outlinewidth": 0,
              "ticks": ""
             }
            },
            "type": "scatterternary"
           }
          ],
          "surface": [
           {
            "colorbar": {
             "outlinewidth": 0,
             "ticks": ""
            },
            "colorscale": [
             [
              0,
              "#0d0887"
             ],
             [
              0.1111111111111111,
              "#46039f"
             ],
             [
              0.2222222222222222,
              "#7201a8"
             ],
             [
              0.3333333333333333,
              "#9c179e"
             ],
             [
              0.4444444444444444,
              "#bd3786"
             ],
             [
              0.5555555555555556,
              "#d8576b"
             ],
             [
              0.6666666666666666,
              "#ed7953"
             ],
             [
              0.7777777777777778,
              "#fb9f3a"
             ],
             [
              0.8888888888888888,
              "#fdca26"
             ],
             [
              1,
              "#f0f921"
             ]
            ],
            "type": "surface"
           }
          ],
          "table": [
           {
            "cells": {
             "fill": {
              "color": "#EBF0F8"
             },
             "line": {
              "color": "white"
             }
            },
            "header": {
             "fill": {
              "color": "#C8D4E3"
             },
             "line": {
              "color": "white"
             }
            },
            "type": "table"
           }
          ]
         },
         "layout": {
          "annotationdefaults": {
           "arrowcolor": "#2a3f5f",
           "arrowhead": 0,
           "arrowwidth": 1
          },
          "coloraxis": {
           "colorbar": {
            "outlinewidth": 0,
            "ticks": ""
           }
          },
          "colorscale": {
           "diverging": [
            [
             0,
             "#8e0152"
            ],
            [
             0.1,
             "#c51b7d"
            ],
            [
             0.2,
             "#de77ae"
            ],
            [
             0.3,
             "#f1b6da"
            ],
            [
             0.4,
             "#fde0ef"
            ],
            [
             0.5,
             "#f7f7f7"
            ],
            [
             0.6,
             "#e6f5d0"
            ],
            [
             0.7,
             "#b8e186"
            ],
            [
             0.8,
             "#7fbc41"
            ],
            [
             0.9,
             "#4d9221"
            ],
            [
             1,
             "#276419"
            ]
           ],
           "sequential": [
            [
             0,
             "#0d0887"
            ],
            [
             0.1111111111111111,
             "#46039f"
            ],
            [
             0.2222222222222222,
             "#7201a8"
            ],
            [
             0.3333333333333333,
             "#9c179e"
            ],
            [
             0.4444444444444444,
             "#bd3786"
            ],
            [
             0.5555555555555556,
             "#d8576b"
            ],
            [
             0.6666666666666666,
             "#ed7953"
            ],
            [
             0.7777777777777778,
             "#fb9f3a"
            ],
            [
             0.8888888888888888,
             "#fdca26"
            ],
            [
             1,
             "#f0f921"
            ]
           ],
           "sequentialminus": [
            [
             0,
             "#0d0887"
            ],
            [
             0.1111111111111111,
             "#46039f"
            ],
            [
             0.2222222222222222,
             "#7201a8"
            ],
            [
             0.3333333333333333,
             "#9c179e"
            ],
            [
             0.4444444444444444,
             "#bd3786"
            ],
            [
             0.5555555555555556,
             "#d8576b"
            ],
            [
             0.6666666666666666,
             "#ed7953"
            ],
            [
             0.7777777777777778,
             "#fb9f3a"
            ],
            [
             0.8888888888888888,
             "#fdca26"
            ],
            [
             1,
             "#f0f921"
            ]
           ]
          },
          "colorway": [
           "#636efa",
           "#EF553B",
           "#00cc96",
           "#ab63fa",
           "#FFA15A",
           "#19d3f3",
           "#FF6692",
           "#B6E880",
           "#FF97FF",
           "#FECB52"
          ],
          "font": {
           "color": "#2a3f5f"
          },
          "geo": {
           "bgcolor": "white",
           "lakecolor": "white",
           "landcolor": "#E5ECF6",
           "showlakes": true,
           "showland": true,
           "subunitcolor": "white"
          },
          "hoverlabel": {
           "align": "left"
          },
          "hovermode": "closest",
          "mapbox": {
           "style": "light"
          },
          "paper_bgcolor": "white",
          "plot_bgcolor": "#E5ECF6",
          "polar": {
           "angularaxis": {
            "gridcolor": "white",
            "linecolor": "white",
            "ticks": ""
           },
           "bgcolor": "#E5ECF6",
           "radialaxis": {
            "gridcolor": "white",
            "linecolor": "white",
            "ticks": ""
           }
          },
          "scene": {
           "xaxis": {
            "backgroundcolor": "#E5ECF6",
            "gridcolor": "white",
            "gridwidth": 2,
            "linecolor": "white",
            "showbackground": true,
            "ticks": "",
            "zerolinecolor": "white"
           },
           "yaxis": {
            "backgroundcolor": "#E5ECF6",
            "gridcolor": "white",
            "gridwidth": 2,
            "linecolor": "white",
            "showbackground": true,
            "ticks": "",
            "zerolinecolor": "white"
           },
           "zaxis": {
            "backgroundcolor": "#E5ECF6",
            "gridcolor": "white",
            "gridwidth": 2,
            "linecolor": "white",
            "showbackground": true,
            "ticks": "",
            "zerolinecolor": "white"
           }
          },
          "shapedefaults": {
           "line": {
            "color": "#2a3f5f"
           }
          },
          "ternary": {
           "aaxis": {
            "gridcolor": "white",
            "linecolor": "white",
            "ticks": ""
           },
           "baxis": {
            "gridcolor": "white",
            "linecolor": "white",
            "ticks": ""
           },
           "bgcolor": "#E5ECF6",
           "caxis": {
            "gridcolor": "white",
            "linecolor": "white",
            "ticks": ""
           }
          },
          "title": {
           "x": 0.05
          },
          "xaxis": {
           "automargin": true,
           "gridcolor": "white",
           "linecolor": "white",
           "ticks": "",
           "title": {
            "standoff": 15
           },
           "zerolinecolor": "white",
           "zerolinewidth": 2
          },
          "yaxis": {
           "automargin": true,
           "gridcolor": "white",
           "linecolor": "white",
           "ticks": "",
           "title": {
            "standoff": 15
           },
           "zerolinecolor": "white",
           "zerolinewidth": 2
          }
         }
        },
        "title": {
         "text": "Gantt Chart"
        },
        "xaxis": {
         "rangeselector": {
          "buttons": [
           {
            "count": 7,
            "label": "1w",
            "step": "day",
            "stepmode": "backward"
           },
           {
            "count": 1,
            "label": "1m",
            "step": "month",
            "stepmode": "backward"
           },
           {
            "count": 6,
            "label": "6m",
            "step": "month",
            "stepmode": "backward"
           },
           {
            "count": 1,
            "label": "YTD",
            "step": "year",
            "stepmode": "todate"
           },
           {
            "count": 1,
            "label": "1y",
            "step": "year",
            "stepmode": "backward"
           },
           {
            "step": "all"
           }
          ]
         },
         "showgrid": false,
         "type": "date",
         "zeroline": false
        },
        "yaxis": {
         "autorange": false,
         "range": [
          -1,
          2
         ],
         "showgrid": false,
         "ticktext": [
          "RAD"
         ],
         "tickvals": [
          0
         ],
         "zeroline": false
        }
       }
      },
      "text/html": [
       "<div>\n",
       "        \n",
       "        \n",
       "            <div id=\"369e7484-f923-4229-a441-cd0a0d0f12e6\" class=\"plotly-graph-div\" style=\"height:600px; width:100%;\"></div>\n",
       "            <script type=\"text/javascript\">\n",
       "                require([\"plotly\"], function(Plotly) {\n",
       "                    window.PLOTLYENV=window.PLOTLYENV || {};\n",
       "                    \n",
       "                if (document.getElementById(\"369e7484-f923-4229-a441-cd0a0d0f12e6\")) {\n",
       "                    Plotly.newPlot(\n",
       "                        '369e7484-f923-4229-a441-cd0a0d0f12e6',\n",
       "                        [{\"fill\": \"toself\", \"fillcolor\": \"rgb(33.24, 119.08, 178.34)\", \"hoverinfo\": \"name\", \"legendgroup\": \"rgb(33.24, 119.08, 178.34)\", \"mode\": \"none\", \"name\": \"1\", \"showlegend\": false, \"type\": \"scatter\", \"x\": [\"2012-07-09T00:00:00\", \"2012-07-12T00:00:00\", \"2012-07-12T00:00:00\", \"2012-07-09T00:00:00\"], \"y\": [-0.2, -0.2, 0.2, 0.2]}, {\"fill\": \"toself\", \"fillcolor\": \"rgb(35.480000000000004, 119.16, 176.68)\", \"hoverinfo\": \"name\", \"legendgroup\": \"rgb(35.480000000000004, 119.16, 176.68)\", \"mode\": \"none\", \"name\": \"2\", \"showlegend\": false, \"type\": \"scatter\", \"x\": [\"2012-08-06T00:00:00\", \"2012-08-09T00:00:00\", \"2012-08-09T00:00:00\", \"2012-08-06T00:00:00\"], \"y\": [-0.2, -0.2, 0.2, 0.2]}, {\"fill\": \"toself\", \"fillcolor\": \"rgb(37.72, 119.24, 175.02)\", \"hoverinfo\": \"name\", \"legendgroup\": \"rgb(37.72, 119.24, 175.02)\", \"mode\": \"none\", \"name\": \"3\", \"showlegend\": false, \"type\": \"scatter\", \"x\": [\"2012-09-04T00:00:00\", \"2012-09-08T00:00:00\", \"2012-09-08T00:00:00\", \"2012-09-04T00:00:00\"], \"y\": [-0.2, -0.2, 0.2, 0.2]}, {\"fill\": \"toself\", \"fillcolor\": \"rgb(39.96, 119.32, 173.36)\", \"hoverinfo\": \"name\", \"legendgroup\": \"rgb(39.96, 119.32, 173.36)\", \"mode\": \"none\", \"name\": \"4\", \"showlegend\": false, \"type\": \"scatter\", \"x\": [\"2013-03-25T00:00:00\", \"2013-03-29T00:00:00\", \"2013-03-29T00:00:00\", \"2013-03-25T00:00:00\"], \"y\": [-0.2, -0.2, 0.2, 0.2]}, {\"legendgroup\": \"rgb(33.24, 119.08, 178.34)\", \"marker\": {\"color\": \"rgb(33.24, 119.08, 178.34)\", \"opacity\": 0, \"size\": 1}, \"mode\": \"markers\", \"name\": \"\", \"showlegend\": false, \"text\": [null, null], \"type\": \"scatter\", \"x\": [\"2012-07-09T00:00:00\", \"2012-07-12T00:00:00\"], \"y\": [0, 0]}, {\"legendgroup\": \"rgb(35.480000000000004, 119.16, 176.68)\", \"marker\": {\"color\": \"rgb(35.480000000000004, 119.16, 176.68)\", \"opacity\": 0, \"size\": 1}, \"mode\": \"markers\", \"name\": \"\", \"showlegend\": false, \"text\": [null, null], \"type\": \"scatter\", \"x\": [\"2012-08-06T00:00:00\", \"2012-08-09T00:00:00\"], \"y\": [0, 0]}, {\"legendgroup\": \"rgb(37.72, 119.24, 175.02)\", \"marker\": {\"color\": \"rgb(37.72, 119.24, 175.02)\", \"opacity\": 0, \"size\": 1}, \"mode\": \"markers\", \"name\": \"\", \"showlegend\": false, \"text\": [null, null], \"type\": \"scatter\", \"x\": [\"2012-09-04T00:00:00\", \"2012-09-08T00:00:00\"], \"y\": [0, 0]}, {\"legendgroup\": \"rgb(39.96, 119.32, 173.36)\", \"marker\": {\"color\": \"rgb(39.96, 119.32, 173.36)\", \"opacity\": 0, \"size\": 1}, \"mode\": \"markers\", \"name\": \"\", \"showlegend\": false, \"text\": [null, null], \"type\": \"scatter\", \"x\": [\"2013-03-25T00:00:00\", \"2013-03-29T00:00:00\"], \"y\": [0, 0]}],\n",
       "                        {\"height\": 600, \"hovermode\": \"closest\", \"showlegend\": false, \"template\": {\"data\": {\"bar\": [{\"error_x\": {\"color\": \"#2a3f5f\"}, \"error_y\": {\"color\": \"#2a3f5f\"}, \"marker\": {\"line\": {\"color\": \"#E5ECF6\", \"width\": 0.5}}, \"type\": \"bar\"}], \"barpolar\": [{\"marker\": {\"line\": {\"color\": \"#E5ECF6\", \"width\": 0.5}}, \"type\": \"barpolar\"}], \"carpet\": [{\"aaxis\": {\"endlinecolor\": \"#2a3f5f\", \"gridcolor\": \"white\", \"linecolor\": \"white\", \"minorgridcolor\": \"white\", \"startlinecolor\": \"#2a3f5f\"}, \"baxis\": {\"endlinecolor\": \"#2a3f5f\", \"gridcolor\": \"white\", \"linecolor\": \"white\", \"minorgridcolor\": \"white\", \"startlinecolor\": \"#2a3f5f\"}, \"type\": \"carpet\"}], \"choropleth\": [{\"colorbar\": {\"outlinewidth\": 0, \"ticks\": \"\"}, \"type\": \"choropleth\"}], \"contour\": [{\"colorbar\": {\"outlinewidth\": 0, \"ticks\": \"\"}, \"colorscale\": [[0.0, \"#0d0887\"], [0.1111111111111111, \"#46039f\"], [0.2222222222222222, \"#7201a8\"], [0.3333333333333333, \"#9c179e\"], [0.4444444444444444, \"#bd3786\"], [0.5555555555555556, \"#d8576b\"], [0.6666666666666666, \"#ed7953\"], [0.7777777777777778, \"#fb9f3a\"], [0.8888888888888888, \"#fdca26\"], [1.0, \"#f0f921\"]], \"type\": \"contour\"}], \"contourcarpet\": [{\"colorbar\": {\"outlinewidth\": 0, \"ticks\": \"\"}, \"type\": \"contourcarpet\"}], \"heatmap\": [{\"colorbar\": {\"outlinewidth\": 0, \"ticks\": \"\"}, \"colorscale\": [[0.0, \"#0d0887\"], [0.1111111111111111, \"#46039f\"], [0.2222222222222222, \"#7201a8\"], [0.3333333333333333, \"#9c179e\"], [0.4444444444444444, \"#bd3786\"], [0.5555555555555556, \"#d8576b\"], [0.6666666666666666, \"#ed7953\"], [0.7777777777777778, \"#fb9f3a\"], [0.8888888888888888, \"#fdca26\"], [1.0, \"#f0f921\"]], \"type\": \"heatmap\"}], \"heatmapgl\": [{\"colorbar\": {\"outlinewidth\": 0, \"ticks\": \"\"}, \"colorscale\": [[0.0, \"#0d0887\"], [0.1111111111111111, \"#46039f\"], [0.2222222222222222, \"#7201a8\"], [0.3333333333333333, \"#9c179e\"], [0.4444444444444444, \"#bd3786\"], [0.5555555555555556, \"#d8576b\"], [0.6666666666666666, \"#ed7953\"], [0.7777777777777778, \"#fb9f3a\"], [0.8888888888888888, \"#fdca26\"], [1.0, \"#f0f921\"]], \"type\": \"heatmapgl\"}], \"histogram\": [{\"marker\": {\"colorbar\": {\"outlinewidth\": 0, \"ticks\": \"\"}}, \"type\": \"histogram\"}], \"histogram2d\": [{\"colorbar\": {\"outlinewidth\": 0, \"ticks\": \"\"}, \"colorscale\": [[0.0, \"#0d0887\"], [0.1111111111111111, \"#46039f\"], [0.2222222222222222, \"#7201a8\"], [0.3333333333333333, \"#9c179e\"], [0.4444444444444444, \"#bd3786\"], [0.5555555555555556, \"#d8576b\"], [0.6666666666666666, \"#ed7953\"], [0.7777777777777778, \"#fb9f3a\"], [0.8888888888888888, \"#fdca26\"], [1.0, \"#f0f921\"]], \"type\": \"histogram2d\"}], \"histogram2dcontour\": [{\"colorbar\": {\"outlinewidth\": 0, \"ticks\": \"\"}, \"colorscale\": [[0.0, \"#0d0887\"], [0.1111111111111111, \"#46039f\"], [0.2222222222222222, \"#7201a8\"], [0.3333333333333333, \"#9c179e\"], [0.4444444444444444, \"#bd3786\"], [0.5555555555555556, \"#d8576b\"], [0.6666666666666666, \"#ed7953\"], [0.7777777777777778, \"#fb9f3a\"], [0.8888888888888888, \"#fdca26\"], [1.0, \"#f0f921\"]], \"type\": \"histogram2dcontour\"}], \"mesh3d\": [{\"colorbar\": {\"outlinewidth\": 0, \"ticks\": \"\"}, \"type\": \"mesh3d\"}], \"parcoords\": [{\"line\": {\"colorbar\": {\"outlinewidth\": 0, \"ticks\": \"\"}}, \"type\": \"parcoords\"}], \"pie\": [{\"automargin\": true, \"type\": \"pie\"}], \"scatter\": [{\"marker\": {\"colorbar\": {\"outlinewidth\": 0, \"ticks\": \"\"}}, \"type\": \"scatter\"}], \"scatter3d\": [{\"line\": {\"colorbar\": {\"outlinewidth\": 0, \"ticks\": \"\"}}, \"marker\": {\"colorbar\": {\"outlinewidth\": 0, \"ticks\": \"\"}}, \"type\": \"scatter3d\"}], \"scattercarpet\": [{\"marker\": {\"colorbar\": {\"outlinewidth\": 0, \"ticks\": \"\"}}, \"type\": \"scattercarpet\"}], \"scattergeo\": [{\"marker\": {\"colorbar\": {\"outlinewidth\": 0, \"ticks\": \"\"}}, \"type\": \"scattergeo\"}], \"scattergl\": [{\"marker\": {\"colorbar\": {\"outlinewidth\": 0, \"ticks\": \"\"}}, \"type\": \"scattergl\"}], \"scattermapbox\": [{\"marker\": {\"colorbar\": {\"outlinewidth\": 0, \"ticks\": \"\"}}, \"type\": \"scattermapbox\"}], \"scatterpolar\": [{\"marker\": {\"colorbar\": {\"outlinewidth\": 0, \"ticks\": \"\"}}, \"type\": \"scatterpolar\"}], \"scatterpolargl\": [{\"marker\": {\"colorbar\": {\"outlinewidth\": 0, \"ticks\": \"\"}}, \"type\": \"scatterpolargl\"}], \"scatterternary\": [{\"marker\": {\"colorbar\": {\"outlinewidth\": 0, \"ticks\": \"\"}}, \"type\": \"scatterternary\"}], \"surface\": [{\"colorbar\": {\"outlinewidth\": 0, \"ticks\": \"\"}, \"colorscale\": [[0.0, \"#0d0887\"], [0.1111111111111111, \"#46039f\"], [0.2222222222222222, \"#7201a8\"], [0.3333333333333333, \"#9c179e\"], [0.4444444444444444, \"#bd3786\"], [0.5555555555555556, \"#d8576b\"], [0.6666666666666666, \"#ed7953\"], [0.7777777777777778, \"#fb9f3a\"], [0.8888888888888888, \"#fdca26\"], [1.0, \"#f0f921\"]], \"type\": \"surface\"}], \"table\": [{\"cells\": {\"fill\": {\"color\": \"#EBF0F8\"}, \"line\": {\"color\": \"white\"}}, \"header\": {\"fill\": {\"color\": \"#C8D4E3\"}, \"line\": {\"color\": \"white\"}}, \"type\": \"table\"}]}, \"layout\": {\"annotationdefaults\": {\"arrowcolor\": \"#2a3f5f\", \"arrowhead\": 0, \"arrowwidth\": 1}, \"coloraxis\": {\"colorbar\": {\"outlinewidth\": 0, \"ticks\": \"\"}}, \"colorscale\": {\"diverging\": [[0, \"#8e0152\"], [0.1, \"#c51b7d\"], [0.2, \"#de77ae\"], [0.3, \"#f1b6da\"], [0.4, \"#fde0ef\"], [0.5, \"#f7f7f7\"], [0.6, \"#e6f5d0\"], [0.7, \"#b8e186\"], [0.8, \"#7fbc41\"], [0.9, \"#4d9221\"], [1, \"#276419\"]], \"sequential\": [[0.0, \"#0d0887\"], [0.1111111111111111, \"#46039f\"], [0.2222222222222222, \"#7201a8\"], [0.3333333333333333, \"#9c179e\"], [0.4444444444444444, \"#bd3786\"], [0.5555555555555556, \"#d8576b\"], [0.6666666666666666, \"#ed7953\"], [0.7777777777777778, \"#fb9f3a\"], [0.8888888888888888, \"#fdca26\"], [1.0, \"#f0f921\"]], \"sequentialminus\": [[0.0, \"#0d0887\"], [0.1111111111111111, \"#46039f\"], [0.2222222222222222, \"#7201a8\"], [0.3333333333333333, \"#9c179e\"], [0.4444444444444444, \"#bd3786\"], [0.5555555555555556, \"#d8576b\"], [0.6666666666666666, \"#ed7953\"], [0.7777777777777778, \"#fb9f3a\"], [0.8888888888888888, \"#fdca26\"], [1.0, \"#f0f921\"]]}, \"colorway\": [\"#636efa\", \"#EF553B\", \"#00cc96\", \"#ab63fa\", \"#FFA15A\", \"#19d3f3\", \"#FF6692\", \"#B6E880\", \"#FF97FF\", \"#FECB52\"], \"font\": {\"color\": \"#2a3f5f\"}, \"geo\": {\"bgcolor\": \"white\", \"lakecolor\": \"white\", \"landcolor\": \"#E5ECF6\", \"showlakes\": true, \"showland\": true, \"subunitcolor\": \"white\"}, \"hoverlabel\": {\"align\": \"left\"}, \"hovermode\": \"closest\", \"mapbox\": {\"style\": \"light\"}, \"paper_bgcolor\": \"white\", \"plot_bgcolor\": \"#E5ECF6\", \"polar\": {\"angularaxis\": {\"gridcolor\": \"white\", \"linecolor\": \"white\", \"ticks\": \"\"}, \"bgcolor\": \"#E5ECF6\", \"radialaxis\": {\"gridcolor\": \"white\", \"linecolor\": \"white\", \"ticks\": \"\"}}, \"scene\": {\"xaxis\": {\"backgroundcolor\": \"#E5ECF6\", \"gridcolor\": \"white\", \"gridwidth\": 2, \"linecolor\": \"white\", \"showbackground\": true, \"ticks\": \"\", \"zerolinecolor\": \"white\"}, \"yaxis\": {\"backgroundcolor\": \"#E5ECF6\", \"gridcolor\": \"white\", \"gridwidth\": 2, \"linecolor\": \"white\", \"showbackground\": true, \"ticks\": \"\", \"zerolinecolor\": \"white\"}, \"zaxis\": {\"backgroundcolor\": \"#E5ECF6\", \"gridcolor\": \"white\", \"gridwidth\": 2, \"linecolor\": \"white\", \"showbackground\": true, \"ticks\": \"\", \"zerolinecolor\": \"white\"}}, \"shapedefaults\": {\"line\": {\"color\": \"#2a3f5f\"}}, \"ternary\": {\"aaxis\": {\"gridcolor\": \"white\", \"linecolor\": \"white\", \"ticks\": \"\"}, \"baxis\": {\"gridcolor\": \"white\", \"linecolor\": \"white\", \"ticks\": \"\"}, \"bgcolor\": \"#E5ECF6\", \"caxis\": {\"gridcolor\": \"white\", \"linecolor\": \"white\", \"ticks\": \"\"}}, \"title\": {\"x\": 0.05}, \"xaxis\": {\"automargin\": true, \"gridcolor\": \"white\", \"linecolor\": \"white\", \"ticks\": \"\", \"title\": {\"standoff\": 15}, \"zerolinecolor\": \"white\", \"zerolinewidth\": 2}, \"yaxis\": {\"automargin\": true, \"gridcolor\": \"white\", \"linecolor\": \"white\", \"ticks\": \"\", \"title\": {\"standoff\": 15}, \"zerolinecolor\": \"white\", \"zerolinewidth\": 2}}}, \"title\": {\"text\": \"Gantt Chart\"}, \"xaxis\": {\"rangeselector\": {\"buttons\": [{\"count\": 7, \"label\": \"1w\", \"step\": \"day\", \"stepmode\": \"backward\"}, {\"count\": 1, \"label\": \"1m\", \"step\": \"month\", \"stepmode\": \"backward\"}, {\"count\": 6, \"label\": \"6m\", \"step\": \"month\", \"stepmode\": \"backward\"}, {\"count\": 1, \"label\": \"YTD\", \"step\": \"year\", \"stepmode\": \"todate\"}, {\"count\": 1, \"label\": \"1y\", \"step\": \"year\", \"stepmode\": \"backward\"}, {\"step\": \"all\"}]}, \"showgrid\": false, \"type\": \"date\", \"zeroline\": false}, \"yaxis\": {\"autorange\": false, \"range\": [-1, 2], \"showgrid\": false, \"ticktext\": [\"RAD\"], \"tickvals\": [0], \"zeroline\": false}},\n",
       "                        {\"responsive\": true}\n",
       "                    ).then(function(){\n",
       "                            \n",
       "var gd = document.getElementById('369e7484-f923-4229-a441-cd0a0d0f12e6');\n",
       "var x = new MutationObserver(function (mutations, observer) {{\n",
       "        var display = window.getComputedStyle(gd).display;\n",
       "        if (!display || display === 'none') {{\n",
       "            console.log([gd, 'removed!']);\n",
       "            Plotly.purge(gd);\n",
       "            observer.disconnect();\n",
       "        }}\n",
       "}});\n",
       "\n",
       "// Listen for the removal of the full notebook cells\n",
       "var notebookContainer = gd.closest('#notebook-container');\n",
       "if (notebookContainer) {{\n",
       "    x.observe(notebookContainer, {childList: true});\n",
       "}}\n",
       "\n",
       "// Listen for the clearing of the current output cell\n",
       "var outputEl = gd.closest('.output');\n",
       "if (outputEl) {{\n",
       "    x.observe(outputEl, {childList: true});\n",
       "}}\n",
       "\n",
       "                        })\n",
       "                };\n",
       "                });\n",
       "            </script>\n",
       "        </div>"
      ]
     },
     "metadata": {},
     "output_type": "display_data"
    },
    {
     "name": "stdout",
     "output_type": "stream",
     "text": [
      "       mrn  cycle      start        end\n",
      "2  3261049      1 2012-07-09 2012-07-12\n",
      "3  3261049      2 2012-08-06 2012-08-09\n",
      "4  3261049      3 2012-09-04 2012-09-08\n",
      "5  3261049      4 2013-03-25 2013-03-29\n"
     ]
    }
   ],
   "source": [
    "df=pd.read_csv('RM_radiation_cycles.csv')\n",
    "df['start']=pd.to_datetime(df['start'],infer_datetime_format=True, errors='coerce')\n",
    "df['end']=pd.to_datetime(df['end'],infer_datetime_format=True, errors='coerce')\n",
    "\n",
    "\n",
    "import plotly.figure_factory as ff\n",
    "import matplotlib.pyplot as plt\n",
    "\n",
    "def make_data(df):\n",
    "    '''make the data to input into gantt chart, taking input of df '''\n",
    "    data=[]\n",
    "    for index,row in df.iterrows():\n",
    "        Task='RAD'\n",
    "        Start=row['start']\n",
    "        End=row['end']\n",
    "        Source=row['cycle']\n",
    "        if index==0:\n",
    "            data=[dict(Task=Task,Start=Start,Finish=End,Source=Source)]\n",
    "        else:\n",
    "            data.append(dict(Task=Task,Start=Start,Finish=End,Source=Source))\n",
    "    return data\n",
    "def plot_gannt(df):\n",
    "    fig = ff.create_gantt(make_data(df), index_col='Source', show_colorbar=False,\n",
    "                      group_tasks=True)\n",
    "    fig.show()\n",
    "unique_mrns=df.mrn.unique()\n",
    "ptx_info=[]\n",
    "for mrn in unique_mrns:\n",
    "    sub_df=df[df.mrn==mrn]\n",
    "    ptx_info.append(sub_df)\n",
    "plot_gannt(ptx_info[1])\n",
    "print (ptx_info[1])"
   ]
  }
 ],
 "metadata": {
  "kernelspec": {
   "display_name": "Python 3",
   "language": "python",
   "name": "python3"
  },
  "language_info": {
   "codemirror_mode": {
    "name": "ipython",
    "version": 3
   },
   "file_extension": ".py",
   "mimetype": "text/x-python",
   "name": "python",
   "nbconvert_exporter": "python",
   "pygments_lexer": "ipython3",
   "version": "3.7.6"
  }
 },
 "nbformat": 4,
 "nbformat_minor": 4
}
