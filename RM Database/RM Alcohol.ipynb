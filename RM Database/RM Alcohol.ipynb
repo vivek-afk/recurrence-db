{
 "cells": [
  {
   "cell_type": "code",
   "execution_count": 8,
   "metadata": {},
   "outputs": [
    {
     "name": "stdout",
     "output_type": "stream",
     "text": [
      "Index(['mrn', 'HX_DRINK_TYPES_C_1', 'HX_DRINK_TYPES_1', 'HX_DRINKS_WK_1',\n",
      "       'HX_DRINK_TYPES_C_2', 'HX_DRINK_TYPES_2', 'HX_DRINKS_WK_2',\n",
      "       'HX_DRINK_TYPES_C_3', 'HX_DRINK_TYPES_3', 'HX_DRINKS_WK_3'],\n",
      "      dtype='object')\n",
      "number of patients: 301\n",
      "         mrn HX_DRINKS_WK_1 HX_DRINKS_WK_2  HX_DRINKS_WK_3\n",
      "0    1020909              0            NaN             NaN\n",
      "1    1071436              1            NaN             NaN\n",
      "2    1156307              5            NaN             NaN\n",
      "3    1190522              2            NaN             NaN\n",
      "4    1242125              0            NaN             NaN\n",
      "..       ...            ...            ...             ...\n",
      "331   475506              4            NaN             NaN\n",
      "332   746451              1            NaN             NaN\n",
      "333   962764             21            NaN             NaN\n",
      "334   962764             21            NaN             NaN\n",
      "335   970932              2            NaN             NaN\n",
      "\n",
      "[336 rows x 4 columns]\n"
     ]
    }
   ],
   "source": [
    "import pandas as pd\n",
    "import numpy as np\n",
    "\n",
    "file='ENT_CA_DM_ETOH.txt'\n",
    "\n",
    "df=pd.read_csv(file,delimiter='|',error_bad_lines=False)\n",
    "print (df.columns)\n",
    "cols=['mrn','HX_DRINKS_WK_1','HX_DRINKS_WK_2','HX_DRINKS_WK_3']\n",
    "df=df[cols]\n",
    "print ('number of patients:',len(df.mrn.unique()))\n",
    "print (df)"
   ]
  },
  {
   "cell_type": "code",
   "execution_count": 9,
   "metadata": {},
   "outputs": [
    {
     "name": "stdout",
     "output_type": "stream",
     "text": [
      "       mrn  HX_DRINKS_WK_1  HX_DRINKS_WK_2  HX_DRINKS_WK_3  drinks_per_week\n",
      "0  1020909             0.0             0.0             0.0              0.0\n",
      "1  1071436             1.0             0.0             0.0              1.0\n",
      "2  1156307             5.0             0.0             0.0              5.0\n",
      "3  1190522             2.0             0.0             0.0              2.0\n",
      "4  1242125             0.0             0.0             0.0              0.0\n"
     ]
    }
   ],
   "source": [
    "def split_the_diff(amount):\n",
    "    try:\n",
    "        text=amount.strip()\n",
    "        num1=int(text.split('-')[0])\n",
    "        num2=int(text.split('-')[1])\n",
    "        avg=(num1+num2)/2\n",
    "        return avg\n",
    "    except:\n",
    "        try:\n",
    "            return int(amount)\n",
    "        except:\n",
    "            return np.nan\n",
    "df['HX_DRINKS_WK_1']=df['HX_DRINKS_WK_1'].apply(split_the_diff)\n",
    "df['HX_DRINKS_WK_2']=df['HX_DRINKS_WK_2'].apply(split_the_diff)\n",
    "df['HX_DRINKS_WK_3']=df['HX_DRINKS_WK_3'].apply(split_the_diff)\n",
    "df=df.fillna(value=0)\n",
    "\n",
    "df['drinks_per_week']=df[['HX_DRINKS_WK_1','HX_DRINKS_WK_2','HX_DRINKS_WK_3']].sum(axis=1)\n",
    "print (df.head())"
   ]
  },
  {
   "cell_type": "code",
   "execution_count": 10,
   "metadata": {},
   "outputs": [
    {
     "name": "stdout",
     "output_type": "stream",
     "text": [
      "size before dropping duplicates: 336\n",
      "size after dropping duplicates: 301\n",
      "         mrn  HX_DRINKS_WK_1  HX_DRINKS_WK_2  HX_DRINKS_WK_3  drinks_per_week  \\\n",
      "31   2323296            84.0             0.0             0.0             84.0   \n",
      "132  3192573            70.0             0.0             0.0             70.0   \n",
      "15   1765632            70.0             0.0             0.0             70.0   \n",
      "268  3519710            49.0             0.0             0.0             49.0   \n",
      "290  3554753            14.0            28.0             0.0             42.0   \n",
      "..       ...             ...             ...             ...              ...   \n",
      "58   2812904             0.0             0.0             0.0              0.0   \n",
      "262  3499178             0.0             0.0             0.0              0.0   \n",
      "50   2738829             0.0             0.0             0.0              0.0   \n",
      "148  3242778             0.0             0.0             0.0              0.0   \n",
      "0    1020909             0.0             0.0             0.0              0.0   \n",
      "\n",
      "     high_risk  \n",
      "31        True  \n",
      "132       True  \n",
      "15        True  \n",
      "268       True  \n",
      "290       True  \n",
      "..         ...  \n",
      "58       False  \n",
      "262      False  \n",
      "50       False  \n",
      "148      False  \n",
      "0        False  \n",
      "\n",
      "[301 rows x 6 columns]\n"
     ]
    }
   ],
   "source": [
    "### get rid of duplicates\n",
    "df=df.sort_values(by=['drinks_per_week'],ascending=False)\n",
    "print ('size before dropping duplicates:',df.shape[0])\n",
    "df=df.drop_duplicates(subset='mrn',keep='first')\n",
    "print ('size after dropping duplicates:',df.shape[0])\n",
    "\n",
    "### classify high-risk drinking\n",
    "cut_off=14\n",
    "df['high_risk']=df['drinks_per_week'].apply(lambda l:l>=cut_off)\n",
    "\n",
    "print (df)"
   ]
  },
  {
   "cell_type": "code",
   "execution_count": 12,
   "metadata": {},
   "outputs": [
    {
     "name": "stdout",
     "output_type": "stream",
     "text": [
      "False    253\n",
      "True      48\n",
      "Name: high_risk, dtype: int64\n"
     ]
    }
   ],
   "source": [
    "print (df['high_risk'].value_counts())\n",
    "df.to_csv('RM_EtOH.csv',index=False)"
   ]
  }
 ],
 "metadata": {
  "kernelspec": {
   "display_name": "Python 3",
   "language": "python",
   "name": "python3"
  },
  "language_info": {
   "codemirror_mode": {
    "name": "ipython",
    "version": 3
   },
   "file_extension": ".py",
   "mimetype": "text/x-python",
   "name": "python",
   "nbconvert_exporter": "python",
   "pygments_lexer": "ipython3",
   "version": "3.7.6"
  }
 },
 "nbformat": 4,
 "nbformat_minor": 4
}
