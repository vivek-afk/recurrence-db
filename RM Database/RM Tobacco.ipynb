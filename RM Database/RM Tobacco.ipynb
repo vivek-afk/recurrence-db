{
 "cells": [
  {
   "cell_type": "code",
   "execution_count": 9,
   "metadata": {},
   "outputs": [
    {
     "name": "stdout",
     "output_type": "stream",
     "text": [
      "Index(['mrn', 'TOB_SRC_C', 'SOURCE', 'TOBACCO_USER_C', 'TOBACCO_USER',\n",
      "       'SMOKING_TOB_USE_C', 'SMOKING_TOB_USE', 'TOBACCO_PAK_PER_DY',\n",
      "       'TOBACCO_USED_YEARS', 'TOBACCO_COMMENT', 'CIGARETTES_YN', 'PIPES_YN',\n",
      "       'CIGARS_YN', 'SMOKELESS_TOB_USE_C', 'SMOKELESS_TOB_USE', 'SNUFF_YN',\n",
      "       'CHEW_YN'],\n",
      "      dtype='object')\n",
      "number of patients: 1790\n",
      "          mrn TOBACCO_USER           SMOKING_TOB_USE  TOBACCO_PAK_PER_DY  \\\n",
      "0     1000196        Never              Never Smoker                 NaN   \n",
      "1     1000196        Never              Never Smoker                 NaN   \n",
      "2     1012616         Quit             Former Smoker                2.00   \n",
      "3     1012616         Quit             Former Smoker                2.00   \n",
      "4     1020909         Quit             Former Smoker                0.50   \n",
      "...       ...          ...                       ...                 ...   \n",
      "3242   970932          Yes   Current Some Day Smoker                0.25   \n",
      "3243   970932    Not Asked            Never Assessed                 NaN   \n",
      "3244   970932         Quit             Former Smoker                1.00   \n",
      "3245   978816          Yes  Current Every Day Smoker                 NaN   \n",
      "3246   997177        Never              Never Smoker                 NaN   \n",
      "\n",
      "      TOBACCO_USED_YEARS               TOBACCO_COMMENT  \n",
      "0                    NaN                           NaN  \n",
      "1                    NaN                           NaN  \n",
      "2                   21.0                           NaN  \n",
      "3                   21.0  8-9 years of chewing tobacco  \n",
      "4                   20.0              Quit 30 yrs ago   \n",
      "...                  ...                           ...  \n",
      "3242                40.0     Smokes 2 cigarettes daily  \n",
      "3243                 NaN                           NaN  \n",
      "3244                50.0     Smokes 2 cigarettes daily  \n",
      "3245                 NaN                           NaN  \n",
      "3246                 NaN                           NaN  \n",
      "\n",
      "[3247 rows x 6 columns]\n"
     ]
    }
   ],
   "source": [
    "import pandas as pd\n",
    "import numpy as np\n",
    "\n",
    "file='ENT_CA_DM_Tobacco.txt'\n",
    "\n",
    "df=pd.read_csv(file,delimiter='|',error_bad_lines=False)\n",
    "print (df.columns)\n",
    "cols=['mrn','TOBACCO_USER','SMOKING_TOB_USE','TOBACCO_PAK_PER_DY','TOBACCO_USED_YEARS','TOBACCO_COMMENT']\n",
    "df=df[cols]\n",
    "print ('number of patients:',len(df.mrn.unique()))\n",
    "print (df)"
   ]
  },
  {
   "cell_type": "code",
   "execution_count": 10,
   "metadata": {},
   "outputs": [
    {
     "name": "stdout",
     "output_type": "stream",
     "text": [
      "Quit         1631\n",
      "Never         838\n",
      "Yes           477\n",
      "Not Asked      95\n",
      "Passive        19\n",
      "Name: TOBACCO_USER, dtype: int64\n",
      "1.0    2108\n",
      "0.0     857\n",
      "2.0     282\n",
      "Name: has_used, dtype: int64\n"
     ]
    }
   ],
   "source": [
    "### clasiify patients on whether they have ever used tobacco or not\n",
    "print(df['TOBACCO_USER'].value_counts())\n",
    "\n",
    "### define groups - group 0 is never user, 1 is current/former, 2 is Not Asked\n",
    "group_designations={'Never':0,'Passive':0,'Yes':1,'Quit':1,'Not Asked':2}\n",
    "df['has_used']=df['TOBACCO_USER'].map(group_designations)\n",
    "df['has_used']=df['has_used'].fillna(2)\n",
    "print(df['has_used'].value_counts())"
   ]
  },
  {
   "cell_type": "code",
   "execution_count": 11,
   "metadata": {},
   "outputs": [
    {
     "name": "stdout",
     "output_type": "stream",
     "text": [
      "30.000     113\n",
      "40.000      93\n",
      "20.000      91\n",
      "10.000      86\n",
      "50.000      65\n",
      "          ... \n",
      "1.750        1\n",
      "112.500      1\n",
      "36.750       1\n",
      "0.075        1\n",
      "11.000       1\n",
      "Name: pack_years, Length: 150, dtype: int64\n"
     ]
    }
   ],
   "source": [
    "### get pack-years\n",
    "df['pack_years']=df['TOBACCO_PAK_PER_DY']*df['TOBACCO_USED_YEARS']\n",
    "#df['pack_years']=df['pack_years'].fillna(0)\n",
    "print (df['pack_years'].value_counts())"
   ]
  },
  {
   "cell_type": "code",
   "execution_count": 12,
   "metadata": {},
   "outputs": [
    {
     "name": "stdout",
     "output_type": "stream",
     "text": [
      "number of unique patients: 1790\n",
      "number data entries: 3247\n",
      "number of unique patients: 1790\n",
      "number data entries after drop_duplicates: 1790\n",
      "1.0    1055\n",
      "0.0     578\n",
      "2.0     157\n",
      "Name: has_used, dtype: int64\n"
     ]
    }
   ],
   "source": [
    "### drop duplicates - choose patient with highest pack-years to keep\n",
    "mrns=df.mrn.unique()\n",
    "print ('number of unique patients:',len(mrns))\n",
    "print ('number data entries:',df.shape[0])\n",
    "df=df.sort_values(by=['pack_years'],ascending=False)\n",
    "df=df.drop_duplicates(subset='mrn',keep='first')\n",
    "\n",
    "mrns=df.mrn.unique()\n",
    "print ('number of unique patients:',len(mrns))\n",
    "print ('number data entries after drop_duplicates:',df.shape[0])\n",
    "\n",
    "print(df['has_used'].value_counts())"
   ]
  },
  {
   "cell_type": "code",
   "execution_count": 13,
   "metadata": {
    "scrolled": true
   },
   "outputs": [
    {
     "name": "stdout",
     "output_type": "stream",
     "text": [
      "          mrn TOBACCO_USER           SMOKING_TOB_USE  TOBACCO_PAK_PER_DY  \\\n",
      "1634  3192573         Quit             Former Smoker                 4.0   \n",
      "1155  3059467         Quit             Former Smoker                 5.0   \n",
      "2934  3713709         Quit             Former Smoker                 4.0   \n",
      "2538  3505124          Yes   Current Some Day Smoker                 4.0   \n",
      "2265  3372233         Quit             Former Smoker                 4.0   \n",
      "...       ...          ...                       ...                 ...   \n",
      "3229   950787         Quit             Former Smoker                 NaN   \n",
      "3230   960359          NaN            Never Assessed                 NaN   \n",
      "3241   969087        Never              Never Smoker                 NaN   \n",
      "3245   978816          Yes  Current Every Day Smoker                 NaN   \n",
      "3246   997177        Never              Never Smoker                 NaN   \n",
      "\n",
      "      TOBACCO_USED_YEARS                                    TOBACCO_COMMENT  \\\n",
      "1634                65.0                                     quit 10/2/2010   \n",
      "1155                40.0  Pt currently smokes 3-4 cigars a day instead o...   \n",
      "2934                47.0                                                NaN   \n",
      "2538                45.0  smokes about 5 cigarettes per day; down from 2...   \n",
      "2265                45.0  experimented with chewing tobacco for less the...   \n",
      "...                  ...                                                ...   \n",
      "3229                35.0                                                NaN   \n",
      "3230                 NaN                                                NaN   \n",
      "3241                 NaN                                                NaN   \n",
      "3245                 NaN                                                NaN   \n",
      "3246                 NaN                                                NaN   \n",
      "\n",
      "      has_used  pack_years  \n",
      "1634       1.0       260.0  \n",
      "1155       1.0       200.0  \n",
      "2934       1.0       188.0  \n",
      "2538       1.0       180.0  \n",
      "2265       1.0       180.0  \n",
      "...        ...         ...  \n",
      "3229       1.0         NaN  \n",
      "3230       2.0         NaN  \n",
      "3241       0.0         NaN  \n",
      "3245       1.0         NaN  \n",
      "3246       0.0         NaN  \n",
      "\n",
      "[1790 rows x 8 columns]\n"
     ]
    }
   ],
   "source": [
    "print(df)\n",
    "df.to_csv('RM_tobacco.csv',index=False)"
   ]
  }
 ],
 "metadata": {
  "kernelspec": {
   "display_name": "Python 3",
   "language": "python",
   "name": "python3"
  },
  "language_info": {
   "codemirror_mode": {
    "name": "ipython",
    "version": 3
   },
   "file_extension": ".py",
   "mimetype": "text/x-python",
   "name": "python",
   "nbconvert_exporter": "python",
   "pygments_lexer": "ipython3",
   "version": "3.7.6"
  }
 },
 "nbformat": 4,
 "nbformat_minor": 4
}
