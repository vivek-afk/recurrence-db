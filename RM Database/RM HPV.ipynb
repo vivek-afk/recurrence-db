{
 "cells": [
  {
   "cell_type": "code",
   "execution_count": 21,
   "metadata": {},
   "outputs": [
    {
     "name": "stdout",
     "output_type": "stream",
     "text": [
      "Index(['PID', 'p16', 'HPV', 'mrn', 'enc_date', 'proc_desc', 'blocks',\n",
      "       'SCANNED', 'Name', 'protocol', 'PCR SUBTYPE',\n",
      "       'HPV+ PCR:\\n 0=NEG,\\n 1=POS', 'accession #', 'Date collected',\n",
      "       'p16 IHC \\n0=neg, \\n1=pos', 'in house p16\\n0=no, \\n1=yes',\n",
      "       'other HPV/Validation?', 'p16 accuracy',\n",
      "       'PCR Validation value (TP, TN, FP, FN)', 'DISCREPANT? \\n0=NO, \\n1=YES',\n",
      "       'Primary code:\\n1: Oropharynx\\n2: Hypopharynx\\n3: Larynx\\n4: Oral Cavity\\n5: Nasopharynx\\n6: Unknown',\n",
      "       'path - primary'],\n",
      "      dtype='object')\n",
      "     enc_date      mrn       HPV\n",
      "0  2016-06-21  1000196       NaN\n",
      "1  2013-03-01  1012616  negative\n",
      "2  2011-12-12  1325320       NaN\n",
      "3  2018-11-05  1365262  positive\n",
      "4  2010-02-03  1365262  negative\n",
      "positive     121\n",
      "negative      94\n",
      "manual         6\n",
      "equivocal      1\n",
      "Name: HPV, dtype: int64\n"
     ]
    }
   ],
   "source": [
    "import pandas as pd\n",
    "import numpy as np\n",
    "\n",
    "file='joinedhpv.csv'\n",
    "df=pd.read_csv(file)\n",
    "print (df.columns)\n",
    "cols=['enc_date','mrn','HPV']\n",
    "df=df[cols]\n",
    "print (df.head())\n",
    "print (df.HPV.value_counts())"
   ]
  },
  {
   "cell_type": "code",
   "execution_count": 22,
   "metadata": {},
   "outputs": [
    {
     "name": "stdout",
     "output_type": "stream",
     "text": [
      "       mrn  HPV_status\n",
      "0  2952217           0\n",
      "1  2952781           1\n",
      "2  2954600           0\n",
      "3  2957771           0\n",
      "4  2989110           2\n"
     ]
    }
   ],
   "source": [
    "def get_HPV_status(df):\n",
    "    hasPos=False\n",
    "    hasNeg=False\n",
    "    for index,row in df.iterrows():\n",
    "        status=row['HPV']\n",
    "        if status=='positive':\n",
    "            hasPos=True\n",
    "        elif status=='negative':\n",
    "            hasNeg=True\n",
    "    if hasPos:\n",
    "        return 1\n",
    "    elif hasNeg:\n",
    "        return 0\n",
    "    else:\n",
    "        return 2\n",
    "\n",
    "df=df.sort_values('enc_date')\n",
    "mrns=df.mrn.unique()\n",
    "ptx_info=[]\n",
    "for mrn in mrns:\n",
    "    sub_df=df[df['mrn']==mrn]\n",
    "    ptx_info.append(sub_df)\n",
    "data=[]\n",
    "for ptx in ptx_info:\n",
    "    mrn=ptx.iloc[0]['mrn']\n",
    "    status=get_HPV_status(ptx)\n",
    "    data.append([mrn,status])\n",
    "df_export=pd.DataFrame(data=data,columns=['mrn','HPV_status'])\n",
    "print (df_export.head())\n",
    "#df_export.to_csv('RM_HPV.csv',index=False)"
   ]
  },
  {
   "cell_type": "code",
   "execution_count": 23,
   "metadata": {},
   "outputs": [
    {
     "name": "stdout",
     "output_type": "stream",
     "text": [
      "Index(['Name', 'MRN', 'Gender', 'Race', 'DOB', 'Age', 'Arm', 'RECIST response',\n",
      "       'Date of Study Entry', 'Last Treatment Date', 'Date of Progression',\n",
      "       'Date of Death', 'trial', 'HPV', 'stage', 'T', 'N', 'M', 'where'],\n",
      "      dtype='object')\n",
      "HPV16        83\n",
      "0            36\n",
      "1            33\n",
      ".            17\n",
      "HPV33         4\n",
      "HPV-          3\n",
      "HPV+          1\n",
      "HPV18         1\n",
      "EQUIVOCAL     1\n",
      "Name: HPV, dtype: int64\n",
      "1.0    122\n",
      "0.0     39\n",
      "Name: HPV, dtype: int64\n",
      "550\n",
      "509\n",
      "         mrn  HPV_status\n",
      "0    2952217         0.0\n",
      "1    2952781         1.0\n",
      "2    2954600         0.0\n",
      "4    2989110         2.0\n",
      "5    1942810         2.0\n",
      "..       ...         ...\n",
      "240  3728585         1.0\n",
      "241  3709726         1.0\n",
      "242  3708841         1.0\n",
      "243  3034289         1.0\n",
      "245  3724219         1.0\n",
      "\n",
      "[509 rows x 2 columns]\n"
     ]
    }
   ],
   "source": [
    "df=pd.read_csv('val_patients_no_recur.csv')\n",
    "print (df.columns)\n",
    "cols=['MRN','HPV']\n",
    "df=df[cols]\n",
    "df.MRN=df.MRN.str.replace('-','').astype(int)\n",
    "df.HPV=df.HPV.str.replace(' ','')\n",
    "print (df.HPV.value_counts())\n",
    "map_={'0':0,'1':1,'HPV16':1,'HPV18':1,'HPV33':1,'HPV+':1,'HPV-':0}\n",
    "df.HPV=df.HPV.map(map_)\n",
    "print (df.HPV.value_counts())\n",
    "\n",
    "df=df.dropna(subset=['HPV'])\n",
    "df.columns=['mrn','HPV_status']\n",
    "\n",
    "df_export=df_export.append(df)\n",
    "print(df_export.shape[0])\n",
    "df_export=df_export.drop_duplicates(subset='mrn',keep='last')\n",
    "print(df_export.shape[0])\n",
    "print (df_export)\n",
    "df_export.to_csv('RM_HPV.csv',index=False)"
   ]
  }
 ],
 "metadata": {
  "kernelspec": {
   "display_name": "Python 3",
   "language": "python",
   "name": "python3"
  },
  "language_info": {
   "codemirror_mode": {
    "name": "ipython",
    "version": 3
   },
   "file_extension": ".py",
   "mimetype": "text/x-python",
   "name": "python",
   "nbconvert_exporter": "python",
   "pygments_lexer": "ipython3",
   "version": "3.7.6"
  }
 },
 "nbformat": 4,
 "nbformat_minor": 4
}
