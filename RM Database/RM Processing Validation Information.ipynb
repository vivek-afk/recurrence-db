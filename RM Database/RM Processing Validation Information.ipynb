{
 "cells": [
  {
   "cell_type": "code",
   "execution_count": 98,
   "metadata": {},
   "outputs": [
    {
     "name": "stdout",
     "output_type": "stream",
     "text": [
      "num patients at beginning: 127\n"
     ]
    }
   ],
   "source": [
    "import pandas as pd\n",
    "import numpy as np\n",
    "\n",
    "### start with patients that DO recur\n",
    "file='val_patients_recur.csv'\n",
    "df=pd.read_csv(file,error_bad_lines=False)\n",
    "#print (df.columns)\n",
    "cols=['MRN','IRB','Treatment 1 Stop date','Treatment 1 Start date','Treatment 1 Date of Progression']\n",
    "df=df[cols]\n",
    "print('num patients at beginning:',len(df.MRN.unique()))"
   ]
  },
  {
   "cell_type": "code",
   "execution_count": 99,
   "metadata": {},
   "outputs": [
    {
     "name": "stdout",
     "output_type": "stream",
     "text": [
      "128\n"
     ]
    }
   ],
   "source": [
    "import re\n",
    "import dateparser\n",
    "import datetime\n",
    "\n",
    "def convert_dates(date):\n",
    "    try:\n",
    "        ### step 1 - convert '.' to '/'\n",
    "        date=date.replace('.','/')\n",
    "        date=date.replace('-','-20',1)\n",
    "        date=date.replace('-','/')\n",
    "        date=date.replace(';',',')\n",
    "        date=date.replace('\\'','')\n",
    "        months=['Jan','Feb','Mar','Apr','May','Jun','Jul','Aug','Sep','Oct','Nov','Dec']\n",
    "        for index,month in enumerate(months):\n",
    "            date=date.replace(month,str(index+1))\n",
    "        ### remove all letters\n",
    "        removal_pattern=r'[A-z]|'\n",
    "        date=re.sub(removal_pattern,'',date)\n",
    "        ### split at commas\n",
    "        date=date.split(',')[0]\n",
    "        ### get rid of whitespace\n",
    "        date=date.strip()\n",
    "        ###\n",
    "        if len(date)==4:\n",
    "            date=np.nan\n",
    "        \n",
    "        return date.strip()\n",
    "    except:\n",
    "        return date\n",
    "prg_dates=[]\n",
    "df['Treatment 1 Date of Progression_']=df['Treatment 1 Date of Progression'].apply(convert_dates)\n",
    "for index,row in df.iterrows():\n",
    "    try:\n",
    "        date=dateparser.parse(row['Treatment 1 Date of Progression_'],settings={'PREFER_DAY_OF_MONTH': 'first'})\n",
    "    except:\n",
    "        date=np.nan\n",
    "    #print (row['Treatment 1 Date of Progression'],'->',row['Treatment 1 Date of Progression_'],'->',date)\n",
    "    prg_dates.append(date)\n",
    "print (len(prg_dates))\n",
    "#print (prg_dates)"
   ]
  },
  {
   "cell_type": "code",
   "execution_count": 100,
   "metadata": {},
   "outputs": [
    {
     "name": "stdout",
     "output_type": "stream",
     "text": [
      "128\n"
     ]
    }
   ],
   "source": [
    "df['Treatment 1 Start_']=df['Treatment 1 Start date'].apply(convert_dates)\n",
    "start_dates=[]\n",
    "mrns=[]\n",
    "for index,row in df.iterrows():\n",
    "    mrns.append(row['MRN'])\n",
    "    try:\n",
    "        date=dateparser.parse(row['Treatment 1 Start_'],settings={'PREFER_DAY_OF_MONTH': 'first'})\n",
    "    except:\n",
    "        date=None\n",
    "    start_dates.append(date)\n",
    "print (len(start_dates))\n",
    "#print(start_dates)"
   ]
  },
  {
   "cell_type": "code",
   "execution_count": 101,
   "metadata": {},
   "outputs": [
    {
     "name": "stdout",
     "output_type": "stream",
     "text": [
      "       mrn Last Treatment Date Date of Progression\n",
      "0   765010          2007-06-19          2007-10-03\n",
      "1   770827          2010-06-11          2010-11-12\n",
      "2   788213          2010-04-14          2010-10-12\n",
      "3   995741          2007-10-24          2009-01-13\n",
      "4  1173322          2008-09-09                 NaT\n",
      "       mrn Last Treatment Date Date of Progression\n",
      "0   765010          2007-06-19          2007-10-03\n",
      "1   770827          2010-06-11          2010-11-12\n",
      "2   788213          2010-04-14          2010-10-12\n",
      "3   995741          2007-10-24          2009-01-13\n",
      "5  1381378          2006-11-14          2007-08-31\n",
      "102\n"
     ]
    }
   ],
   "source": [
    "data=[]\n",
    "for index,mrn in enumerate(mrns):\n",
    "    data.append([mrn,start_dates[index],prg_dates[index]])\n",
    "df_recur=pd.DataFrame(data=data,columns=['mrn','Last Treatment Date','Date of Progression'])\n",
    "print (df_recur.head())\n",
    "df_recur.dropna(inplace=True)\n",
    "print(df_recur.head())\n",
    "\n",
    "print(df_recur.shape[0])"
   ]
  },
  {
   "cell_type": "code",
   "execution_count": 102,
   "metadata": {},
   "outputs": [
    {
     "name": "stdout",
     "output_type": "stream",
     "text": [
      "Index(['Name', 'MRN', 'Gender', 'Race', 'DOB', 'Age', 'Arm', 'RECIST response',\n",
      "       'Date of Study Entry', 'Last Treatment Date', 'Date of Progression',\n",
      "       'Date of Death', 'trial', 'HPV', 'stage', 'T', 'N', 'M', 'where'],\n",
      "      dtype='object')\n",
      "246\n",
      "212\n",
      "       mrn Last Treatment Date  Date of Progression\n",
      "0  3385054           7/11/2014                  NaN\n",
      "2  3371570            6/6/2014                  NaN\n",
      "3  3373283           6/20/2014                  NaN\n",
      "4   753204           5/16/2014                  NaN\n",
      "5  3368571           5/16/2014                  NaN\n"
     ]
    }
   ],
   "source": [
    "### now work on the no_recur data\n",
    "file='val_patients_no_recur.csv'\n",
    "df=pd.read_csv(file)\n",
    "print (df.columns)\n",
    "cols=['MRN','Last Treatment Date','Date of Progression']\n",
    "df=df[cols]\n",
    "\n",
    "# fix MRNs\n",
    "try:\n",
    "    df['MRN']=df['MRN'].str.replace('-','')\n",
    "    df['MRN']=df['MRN'].astype(int)\n",
    "except:\n",
    "    print('mrns already in correct format')\n",
    "\n",
    "# keep only good dates\n",
    "print (df.shape[0])\n",
    "df.dropna(subset=['Last Treatment Date'],inplace=True)\n",
    "print (df.shape[0])\n",
    "\n",
    "df.columns=['mrn','Last Treatment Date','Date of Progression']\n",
    "print(df.head())"
   ]
  },
  {
   "cell_type": "code",
   "execution_count": 103,
   "metadata": {},
   "outputs": [
    {
     "name": "stdout",
     "output_type": "stream",
     "text": [
      "314\n",
      "311\n",
      "311\n",
      "         mrn  Last Treatment Date Date of Progression\n",
      "123  3538715  2015-08-31 00:00:00          2016-04-13\n",
      "124  3543765  2016-05-23 00:00:00          2016-08-23\n",
      "125  3544750  2013-09-19 00:00:00          2014-03-01\n",
      "126  3546446  2014-08-01 00:00:00          2016-05-25\n",
      "127  3667934  2016-01-25 00:00:00          2016-10-13\n"
     ]
    }
   ],
   "source": [
    "df_export=df.append(df_recur)\n",
    "print (df_export.shape[0])\n",
    "print(len(df_export.mrn.unique()))\n",
    "df_export.drop_duplicates(subset=['mrn'],inplace=True,keep='first')\n",
    "print (df_export.shape[0])\n",
    "\n",
    "print(df_export.tail())\n",
    "\n",
    "df_export.to_csv('RM_validated_info.csv',index=False)"
   ]
  }
 ],
 "metadata": {
  "kernelspec": {
   "display_name": "Python 3",
   "language": "python",
   "name": "python3"
  },
  "language_info": {
   "codemirror_mode": {
    "name": "ipython",
    "version": 3
   },
   "file_extension": ".py",
   "mimetype": "text/x-python",
   "name": "python",
   "nbconvert_exporter": "python",
   "pygments_lexer": "ipython3",
   "version": "3.7.6"
  }
 },
 "nbformat": 4,
 "nbformat_minor": 4
}
