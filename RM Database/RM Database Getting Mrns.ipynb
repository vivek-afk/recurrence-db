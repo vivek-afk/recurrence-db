{
 "cells": [
  {
   "cell_type": "code",
   "execution_count": 3,
   "metadata": {},
   "outputs": [
    {
     "name": "stdout",
     "output_type": "stream",
     "text": [
      "160\n",
      "204\n"
     ]
    }
   ],
   "source": [
    "import pandas as pd\n",
    "import numpy as np\n",
    "\n",
    "df1=pd.read_csv('RM_ptx_information.csv')\n",
    "columns=['MRN','IRB']\n",
    "df1=df1[columns]\n",
    "df3=df1[df1.IRB!='8980']\n",
    "df1=df1[df1.IRB=='8980']\n",
    "\n",
    "print(df1.shape[0])\n",
    "print(df3.shape[0])"
   ]
  },
  {
   "cell_type": "code",
   "execution_count": 2,
   "metadata": {},
   "outputs": [
    {
     "name": "stdout",
     "output_type": "stream",
     "text": [
      "246\n",
      "92\n"
     ]
    }
   ],
   "source": [
    "import re\n",
    "df2=pd.read_csv('no_recur_mrns.csv')\n",
    "df2.columns\n",
    "columns=['MRN','trial']\n",
    "df2=df2[columns]\n",
    "print (df2.shape[0])\n",
    "\n",
    "def isOPTIMA(trial):\n",
    "    try:\n",
    "        search=re.search('OPTIMA',trial)\n",
    "        if search:\n",
    "            return True\n",
    "        else:\n",
    "            return False\n",
    "    except:\n",
    "        return False\n",
    "mask=df2.trial.apply(isOPTIMA)\n",
    "df2=df2[mask]\n",
    "print (df2.shape[0])"
   ]
  },
  {
   "cell_type": "code",
   "execution_count": 4,
   "metadata": {},
   "outputs": [
    {
     "data": {
      "text/plain": [
       "<matplotlib.axes._subplots.AxesSubplot at 0x1f1e85b6ac8>"
      ]
     },
     "execution_count": 4,
     "metadata": {},
     "output_type": "execute_result"
    },
    {
     "data": {
      "image/png": "[encoded data removed]",
      "text/plain": [
       "<Figure size 432x288 with 1 Axes>"
      ]
     },
     "metadata": {
      "needs_background": "light"
     },
     "output_type": "display_data"
    }
   ],
   "source": [
    "import matplotlib.pyplot as plt\n",
    "\n",
    "data=[]\n",
    "for mrn in df1.MRN:\n",
    "    data.append([mrn,'8980'])\n",
    "for mrn in df2.MRN:\n",
    "    data.append([mrn,'OPTIMA'])\n",
    "for mrn in df3.MRN:\n",
    "    data.append([mrn,'Non-8980'])\n",
    "df=pd.DataFrame(data,columns=['MRN','Source'])\n",
    "\n",
    "df.to_csv('all_mrns_of_interest.csv')\n",
    "\n",
    "df['Source'].value_counts().plot(kind='bar')"
   ]
  }
 ],
 "metadata": {
  "kernelspec": {
   "display_name": "Python 3",
   "language": "python",
   "name": "python3"
  },
  "language_info": {
   "codemirror_mode": {
    "name": "ipython",
    "version": 3
   },
   "file_extension": ".py",
   "mimetype": "text/x-python",
   "name": "python",
   "nbconvert_exporter": "python",
   "pygments_lexer": "ipython3",
   "version": "3.7.6"
  }
 },
 "nbformat": 4,
 "nbformat_minor": 4
}
