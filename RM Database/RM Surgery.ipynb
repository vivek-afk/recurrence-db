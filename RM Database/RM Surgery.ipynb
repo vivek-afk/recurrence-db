{
 "cells": [
  {
   "cell_type": "code",
   "execution_count": 17,
   "metadata": {},
   "outputs": [
    {
     "name": "stdout",
     "output_type": "stream",
     "text": [
      "Index(['Record ID', 'Path/Cyto ID (PID)', 'MRN', 'Subject ID (LabVantage) ',\n",
      "       'Encounter Date', 'Surgical Accession #:', 'External report?',\n",
      "       'External accession #', 'External procedure date',\n",
      "       'External information',\n",
      "       ...\n",
      "       'p16 IHC?', 'ISH?', 'HPV PCR?', 'HPV subtype', 'HPV subtype, other',\n",
      "       'HPV test, not specified:', 'EBV flag', 'EBV source:',\n",
      "       'EBV (EBER) ISH:', 'Complete?'],\n",
      "      dtype='object', length=101)\n",
      "641\n",
      "391\n"
     ]
    }
   ],
   "source": [
    "# load pathology data\n",
    "\n",
    "import pandas as pd\n",
    "import numpy as np\n",
    "\n",
    "file_name='8980HeadNeckClinical_DATA_LABELS_2020-07-16_0720.csv'\n",
    "df=pd.read_csv(file_name)\n",
    "print (df.columns)\n",
    "cols=['MRN','Encounter Date','Type of Surgery, general   (choice=resection)']\n",
    "df_surg=df[cols]\n",
    "### filter for checked\n",
    "df_surg=df_surg[df_surg['Type of Surgery, general   (choice=resection)']=='Checked']\n",
    "\n",
    "print (df_surg.shape[0])\n",
    "print(len(df_surg.MRN.unique()))"
   ]
  },
  {
   "cell_type": "code",
   "execution_count": 18,
   "metadata": {},
   "outputs": [
    {
     "name": "stdout",
     "output_type": "stream",
     "text": [
      "102\n",
      "51\n"
     ]
    }
   ],
   "source": [
    "### get mrns\n",
    "mrn_df=pd.read_csv('all_mrns_of_interest.csv')\n",
    "mrns=mrn_df.MRN.unique()\n",
    "# filter for rns\n",
    "df_surg=df_surg[df_surg['MRN'].isin(mrns)]\n",
    "print (df_surg.shape[0])\n",
    "print(len(df_surg.MRN.unique()))"
   ]
  },
  {
   "cell_type": "code",
   "execution_count": 19,
   "metadata": {},
   "outputs": [
    {
     "name": "stdout",
     "output_type": "stream",
     "text": [
      "Index(['MRN', 'Encounter Date',\n",
      "       'Type of Surgery, general   (choice=resection)'],\n",
      "      dtype='object')\n",
      "Index(['MRN', 'Encounter Date',\n",
      "       'Type of Surgery, general   (choice=resection)', 'med', 'ordering_mode',\n",
      "       'end'],\n",
      "      dtype='object')\n",
      "Index(['mrn', 'med', 'order_start_dttm', 'order_end_dttm', 'ordering_mode'], dtype='object')\n",
      "        mrn        med order_start_dttm order_end_dttm ordering_mode\n",
      "52   654028  Resection          6/13/07        6/13/07       Surgery\n",
      "59   654028  Resection          12/1/15        12/1/15       Surgery\n",
      "109  788213  Resection          10/6/07        10/6/07       Surgery\n",
      "110  788213  Resection          10/6/07        10/6/07       Surgery\n",
      "111  788213  Resection           2/6/09         2/6/09       Surgery\n"
     ]
    }
   ],
   "source": [
    "### convert to a format that can easily be added to existing code and export\n",
    "print (df_surg.columns)\n",
    "df_surg['med']='Resection'\n",
    "df_surg['ordering_mode']='Surgery'\n",
    "df_surg['end']=df_surg['Encounter Date']\n",
    "print (df_surg.columns)\n",
    "cols=['MRN','med','Encounter Date','end','ordering_mode']\n",
    "df_surg=df_surg[cols]\n",
    "df_surg.columns=['mrn','med','order_start_dttm','order_end_dttm','ordering_mode']\n",
    "print(df_surg.columns)\n",
    "print(df_surg.head())\n",
    "df_surg.to_csv('RM_surgeries.csv',index=False)"
   ]
  }
 ],
 "metadata": {
  "kernelspec": {
   "display_name": "Python 3",
   "language": "python",
   "name": "python3"
  },
  "language_info": {
   "codemirror_mode": {
    "name": "ipython",
    "version": 3
   },
   "file_extension": ".py",
   "mimetype": "text/x-python",
   "name": "python",
   "nbconvert_exporter": "python",
   "pygments_lexer": "ipython3",
   "version": "3.7.6"
  }
 },
 "nbformat": 4,
 "nbformat_minor": 4
}
