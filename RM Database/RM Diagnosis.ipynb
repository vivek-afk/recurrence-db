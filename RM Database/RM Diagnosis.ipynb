{
 "cells": [
  {
   "cell_type": "code",
   "execution_count": 56,
   "metadata": {},
   "outputs": [
    {
     "name": "stdout",
     "output_type": "stream",
     "text": [
      "Index(['MRN', 'BILL_NUM', 'HAR', 'HAR_MASTER', 'ENC_DATE', 'ADM_DATE',\n",
      "       'DISC_DATE', 'ICD_Dx', 'ICD_Diagnosis', 'POA', 'DX_RANK', 'ICD_TYPE'],\n",
      "      dtype='object')\n",
      "            MRN    ENC_DATE  ICD_Dx  \\\n",
      "0        218087  2011-05-17   161.1   \n",
      "1        218087  2011-08-22   161.9   \n",
      "2        218087  2012-09-24   161.9   \n",
      "3        218087  2014-04-07   477.9   \n",
      "4        218087  2014-04-07  530.81   \n",
      "...         ...         ...     ...   \n",
      "319100  3930091  2020-02-18  Z85819   \n",
      "319101  3936416  2020-02-07     R51   \n",
      "319102  3938435  2020-02-18    C029   \n",
      "319103  3938622  2020-02-18    C321   \n",
      "319104  3939715  2020-02-19    C300   \n",
      "\n",
      "                                          ICD_Diagnosis  DX_RANK  \n",
      "0                    MALIGNANT NEOPLASM OF SUPRAGLOTTIS        2  \n",
      "1              MALIGNANT NEOPLASM OF LARYNX UNSPECIFIED        1  \n",
      "2              MALIGNANT NEOPLASM OF LARYNX UNSPECIFIED        1  \n",
      "3                   ALLERGIC RHINITIS CAUSE UNSPECIFIED        1  \n",
      "4                                     ESOPHAGEAL REFLUX        2  \n",
      "...                                                 ...      ...  \n",
      "319100  PRSNL HX MAL NEOP USP SIT LIP,ORAL CAV,&PHARYNX        2  \n",
      "319101                                         HEADACHE        1  \n",
      "319102        MALIGNANT NEOPLASM OF TONGUE, UNSPECIFIED        2  \n",
      "319103               MALIGNANT NEOPLASM OF SUPRAGLOTTIS        1  \n",
      "319104               MALIGNANT NEOPLASM OF NASAL CAVITY        1  \n",
      "\n",
      "[318787 rows x 5 columns]\n"
     ]
    }
   ],
   "source": [
    "import pandas as pd\n",
    "import numpy as np\n",
    "\n",
    "file='ENT_CA_DM_Diagnoses.txt'\n",
    "\n",
    "df=pd.read_csv(file,delimiter='|')\n",
    "\n",
    "print (df.columns)\n",
    "cols=['MRN','ENC_DATE','ICD_Dx','ICD_Diagnosis','DX_RANK']\n",
    "df=df[cols]\n",
    "df['ENC_DATE']=df['ENC_DATE'].apply(lambda s:s.split(' ')[0])\n",
    "df=df[df['ENC_DATE']>'1995']\n",
    "print (df)"
   ]
  },
  {
   "cell_type": "code",
   "execution_count": 57,
   "metadata": {},
   "outputs": [
    {
     "name": "stdout",
     "output_type": "stream",
     "text": [
      "MALIGNANT NEOPLASM OF HEAD FACE AND NECK                    39169\n",
      "MALIGNANT NEOPLASM OF BASE OF TONGUE                        12001\n",
      "MALIGNANT NEOPLASM OF THYROID GLAND                         10152\n",
      "MALIGNANT NEOPLASM OF TONSIL                                 7612\n",
      "MALIGNANT NEOPLASM OF SUPRAGLOTTIS                           5711\n",
      "                                                            ...  \n",
      "MALIGNANT NEOPLASM OF NIPPLE AND AREOLA OF FEMALE BREAST        1\n",
      "FOLLICULAR LYMPHOMA GRADE IIIA, UNSPECIFIED SITE                1\n",
      "MALIGNANT MELANOMA OF NOSE                                      1\n",
      "MALIGNANT NEOPLASM OF AXILLARY TAIL OF FEMALE BREAST            1\n",
      "NODULAR SCLER CLASS HODGKIN LYMPHOMA UNSP SITE                  1\n",
      "Name: ICD_Diagnosis, Length: 592, dtype: int64\n"
     ]
    }
   ],
   "source": [
    "import re\n",
    "# def isCancerRelated(diag):\n",
    "#     try:\n",
    "#         pattern=r'NEOPLASM|TUMOR|CANCER'\n",
    "#         search=re.search(pattern,diag)\n",
    "#         if search:\n",
    "#             return True\n",
    "#         else:\n",
    "#             return False\n",
    "#     except:\n",
    "#         return False\n",
    "def isCancerRelated(code):\n",
    "    flag=False\n",
    "    if code[0]=='C':\n",
    "        flag=True\n",
    "    if code[0]=='1':\n",
    "        flag=True\n",
    "    return flag\n",
    "mask=df['ICD_Dx'].apply(isCancerRelated)\n",
    "df=df[mask]\n",
    "print(df['ICD_Diagnosis'].value_counts())"
   ]
  },
  {
   "cell_type": "code",
   "execution_count": 58,
   "metadata": {},
   "outputs": [
    {
     "name": "stdout",
     "output_type": "stream",
     "text": [
      "number of patients: 2541\n"
     ]
    },
    {
     "data": {
      "image/png": "[encoded data removed]",
      "text/plain": [
       "<Figure size 432x288 with 1 Axes>"
      ]
     },
     "metadata": {
      "needs_background": "light"
     },
     "output_type": "display_data"
    },
    {
     "name": "stdout",
     "output_type": "stream",
     "text": [
      "         MRN    ENC_DATE ICD_Dx  \\\n",
      "3032  296701  2002-03-13    185   \n",
      "3326  296701  2011-07-07  143.9   \n",
      "2887  296701  2011-07-15  195.0   \n",
      "16    296701  2011-07-19  141.1   \n",
      "2888  296701  2011-07-19  145.0   \n",
      "2391  296701  2011-07-28  145.2   \n",
      "2235  296701  2012-04-18  145.5   \n",
      "2545  296701  2012-09-27  145.9   \n",
      "1996  296701  2012-12-18  143.0   \n",
      "\n",
      "                                       ICD_Diagnosis  DX_RANK  \n",
      "3032                  MALIGNANT NEOPLASM OF PROSTATE        2  \n",
      "3326           MALIGNANT NEOPLASM OF GUM UNSPECIFIED        2  \n",
      "2887        MALIGNANT NEOPLASM OF HEAD FACE AND NECK        1  \n",
      "16    MALIGNANT NEOPLASM OF DORSAL SURFACE OF TONGUE        2  \n",
      "2888              MALIGNANT NEOPLASM OF CHEEK MUCOSA        1  \n",
      "2391               MALIGNANT NEOPLASM OF HARD PALATE        1  \n",
      "2235        MALIGNANT NEOPLASM OF PALATE UNSPECIFIED        1  \n",
      "2545         MALIGNANT NEOPLASM OF MOUTH UNSPECIFIED        2  \n",
      "1996                 MALIGNANT NEOPLASM OF UPPER GUM        1  \n"
     ]
    }
   ],
   "source": [
    "import matplotlib.pyplot as plt\n",
    "mrns=df.MRN.unique()\n",
    "ptx_info=[]\n",
    "for mrn in mrns:\n",
    "    sub_df=df[df['MRN']==mrn]\n",
    "    ptx_info.append(sub_df)\n",
    "print ('number of patients:',len(ptx_info))\n",
    "for index,ptx in enumerate(ptx_info):\n",
    "    ptx_info[index]=ptx_info[index].sort_values('ENC_DATE')\n",
    "    ptx_info[index]=ptx_info[index].drop_duplicates(subset=['ICD_Diagnosis'],keep='first')\n",
    "counts=[]\n",
    "for ptx in ptx_info:\n",
    "    counts.append(ptx.shape[0])\n",
    "plt.hist(counts,bins=[0,2,4,6,8,10,12,14,16,18,20,22,24,26,28,30,32,34,36,38,40])\n",
    "plt.show()\n",
    "print (ptx_info[3])"
   ]
  },
  {
   "cell_type": "code",
   "execution_count": 61,
   "metadata": {},
   "outputs": [
    {
     "name": "stdout",
     "output_type": "stream",
     "text": [
      "      mrn date_of_primary_diagnosis  \\\n",
      "0  218087                2011-03-15   \n",
      "1  218644                2010-11-03   \n",
      "2  255332                2004-06-10   \n",
      "3  296701                2011-07-15   \n",
      "4  475506                2013-06-11   \n",
      "\n",
      "                                   primary_diagnoses  \\\n",
      "0  2011-03-15: MALIGNANT NEOPLASM OF GLOTTIS|2011...   \n",
      "1  2010-11-03: MALIGNANT NEOPLASM OF LARYNX UNSPE...   \n",
      "2  2004-06-10: MALIGNANT NEOPLASM OF THYROID GLAN...   \n",
      "3  2011-07-15: MALIGNANT NEOPLASM OF HEAD FACE AN...   \n",
      "4  2013-06-11: MALIGNANT NEOPLASM OF BASE OF TONG...   \n",
      "\n",
      "                                 secondary_diagnoses  \n",
      "0  2011-03-15: MALIGNANT NEOPLASM OF LARYNX UNSPE...  \n",
      "1    2010-11-17: MALIGNANT NEOPLASM OF SUPRAGLOTTIS|  \n",
      "2  2008-08-29: SECONDARY MALIGNANT NEOPLASM OF ME...  \n",
      "3  2002-03-13: MALIGNANT NEOPLASM OF PROSTATE|201...  \n",
      "4  2013-06-11: SECONDARY AND UNSPECIFIED MALIGNAN...  \n"
     ]
    }
   ],
   "source": [
    "data=[]\n",
    "for index,ptx in enumerate(ptx_info):\n",
    "    ### want to get primary diagnoses, date of first primary, secondary diagnoses\n",
    "    keep_looking=True\n",
    "    mrn=ptx.iloc[0]['MRN']\n",
    "    date_of_primary_diagnosis=''\n",
    "    primary_diagnoses=''\n",
    "    secondary_diagnoses=''\n",
    "    for i,row in ptx.iterrows():\n",
    "        if keep_looking and row['DX_RANK']==1:\n",
    "            primary_diagnoses=primary_diagnoses+row['ENC_DATE']+': '+row['ICD_Diagnosis']+'|'\n",
    "            date_of_primary_diagnosis=row['ENC_DATE']\n",
    "            keep_looking=False\n",
    "        elif row['DX_RANK']==1:\n",
    "            primary_diagnoses=primary_diagnoses+row['ENC_DATE']+': '+row['ICD_Diagnosis']+'|'\n",
    "        elif row['DX_RANK']==2:\n",
    "            secondary_diagnoses=secondary_diagnoses+row['ENC_DATE']+': '+row['ICD_Diagnosis']+'|'\n",
    "    datum=[mrn,date_of_primary_diagnosis,primary_diagnoses,secondary_diagnoses]\n",
    "    data.append(datum)\n",
    "df_export=pd.DataFrame(data=data,columns=['mrn','date_of_primary_diagnosis','primary_diagnoses','secondary_diagnoses'])\n",
    "print(df_export.head())\n",
    "df_export.to_csv('RM_Diagnoses.csv',index=False)"
   ]
  }
 ],
 "metadata": {
  "kernelspec": {
   "display_name": "Python 3",
   "language": "python",
   "name": "python3"
  },
  "language_info": {
   "codemirror_mode": {
    "name": "ipython",
    "version": 3
   },
   "file_extension": ".py",
   "mimetype": "text/x-python",
   "name": "python",
   "nbconvert_exporter": "python",
   "pygments_lexer": "ipython3",
   "version": "3.7.6"
  }
 },
 "nbformat": 4,
 "nbformat_minor": 4
}
