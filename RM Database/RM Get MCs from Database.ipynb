{
 "cells": [
  {
   "cell_type": "code",
   "execution_count": 11,
   "metadata": {},
   "outputs": [
    {
     "name": "stdout",
     "output_type": "stream",
     "text": [
      "Index(['mrn', 'pt_name', 'gender', 'race', 'ethnicity', 'date_of_birth',\n",
      "       'date_of_death', 'drinks_per_week', 'TOBACCO_USER', 'pack_years',\n",
      "       'Stage', 'TNM', 'T', 'N', 'M', 'narrative', 'Dx_', 'treatment_end_date',\n",
      "       'RM_flag', 'RM_date_', 'last_date_on_file', 'date_of_primary_diagnosis',\n",
      "       'primary_diagnoses', 'secondary_diagnoses', 'Last Treatment Date',\n",
      "       'Date of Progression'],\n",
      "      dtype='object')\n",
      "       treatment_end_date  Last Treatment Date    RM_date_  \\\n",
      "mrn                                                          \n",
      "765010                NaN  2007-06-19 00:00:00         NaN   \n",
      "770827                NaN  2010-06-11 00:00:00         NaN   \n",
      "788213                NaN  2010-04-14 00:00:00         NaN   \n",
      "852008         2015-04-01           10/23/2015  2015-10-13   \n",
      "995741                NaN  2007-10-24 00:00:00         NaN   \n",
      "\n",
      "       Date of Progression last_date_on_file  \n",
      "mrn                                           \n",
      "765010          2007-10-03               NaN  \n",
      "770827          2010-11-12               NaN  \n",
      "788213          2010-10-12               NaN  \n",
      "852008                 NaN        2016-05-24  \n",
      "995741          2009-01-13               NaN  \n"
     ]
    }
   ],
   "source": [
    "import pandas as pd\n",
    "import numpy as np\n",
    "\n",
    "file='RM_Database.csv'\n",
    "df=pd.read_csv(file)\n",
    "print (df.columns)\n",
    "cols=['mrn','treatment_end_date','Last Treatment Date','RM_date_','Date of Progression','last_date_on_file']\n",
    "df=df[cols]\n",
    "df=df.set_index('mrn')\n",
    "# drop lines that have nothing at all\n",
    "df.dropna(inplace=True,subset=['RM_date_','Date of Progression','last_date_on_file'],how='all')\n",
    "#df.to_csv('examine.csv',index=True)\n",
    "print (df.head())"
   ]
  },
  {
   "cell_type": "code",
   "execution_count": 19,
   "metadata": {},
   "outputs": [
    {
     "name": "stdout",
     "output_type": "stream",
     "text": [
      "starting number entires: 228\n",
      "True\n",
      "    date_of_service_dttm      mrn  is_RM\n",
      "0    2007-06-19 00:00:00   765010      0\n",
      "1             2007-10-03   765010      1\n",
      "2    2010-06-11 00:00:00   770827      0\n",
      "3             2010-11-12   770827      1\n",
      "4    2010-04-14 00:00:00   788213      0\n",
      "..                   ...      ...    ...\n",
      "451           2015-04-01  3506990      1\n",
      "452  2015-08-31 00:00:00  3538715      0\n",
      "453           2016-04-13  3538715      1\n",
      "454  2013-09-19 00:00:00  3544750      0\n",
      "455           2014-03-01  3544750      1\n",
      "\n",
      "[456 rows x 3 columns]\n"
     ]
    }
   ],
   "source": [
    "from math import isnan\n",
    "### goal for chains is three columns: date, mrn, is_RM\n",
    "### each mrn should have two entries\n",
    "print ('starting number entires:',df.shape[0])\n",
    "print (isnan(np.nan))\n",
    "\n",
    "data=[]\n",
    "for index,row in df.iterrows():\n",
    "    mrn=index\n",
    "    ### get start - prefer Last Treatment Date over treatment_end_date\n",
    "    LTD=row['Last Treatment Date']\n",
    "    TED=row['treatment_end_date']\n",
    "    if not pd.isna(LTD):\n",
    "        start=LTD\n",
    "    else:\n",
    "        start=TED\n",
    "    ### get end - prefer Date of Progression over RM_date_, if DOP is nan, then use last date on file\n",
    "    # for is_RM, set to 1 if you are using DOP or RM_date_,set to 0 if you use last date on file\n",
    "    DOP=row['Date of Progression']\n",
    "    RMD=row['RM_date_']\n",
    "    if not pd.isna(DOP):\n",
    "        end=DOP\n",
    "        is_RM=1\n",
    "    elif pd.isna(DOP) and not pd.isna(RMD):\n",
    "        end=RMD\n",
    "        is_RM=1\n",
    "    elif pd.isna(DOP) and pd.isna(RMD):\n",
    "        end=row['last_date_on_file']\n",
    "        is_RM=0\n",
    "    datum=[start,mrn,0]\n",
    "    data.append(datum)\n",
    "    datum=[end,mrn,is_RM]\n",
    "    data.append(datum)\n",
    "df_MCs=pd.DataFrame(data=data,columns=['date_of_service_dttm','mrn','is_RM'])\n",
    "print(df_MCs)\n",
    "df_MCs.to_csv('RM_MCs_DB.csv',index=False)"
   ]
  }
 ],
 "metadata": {
  "kernelspec": {
   "display_name": "Python 3",
   "language": "python",
   "name": "python3"
  },
  "language_info": {
   "codemirror_mode": {
    "name": "ipython",
    "version": 3
   },
   "file_extension": ".py",
   "mimetype": "text/x-python",
   "name": "python",
   "nbconvert_exporter": "python",
   "pygments_lexer": "ipython3",
   "version": "3.7.6"
  }
 },
 "nbformat": 4,
 "nbformat_minor": 4
}
